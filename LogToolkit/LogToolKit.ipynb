{
  "cells": [
    {
      "cell_type": "markdown",
      "source": [
        "### Julia installation Instructions\n",
        "1. Work on a copy of this notebook: _File_ > _Save a copy in Drive_ (you will need a Google account). Alternatively, you can download the notebook using _File_ > _Download .ipynb_, then upload it to [Colab](https://colab.research.google.com/).\n",
        "2. If you need a GPU: _Runtime_ > _Change runtime type_ > _Harware accelerator_ = _GPU_.\n",
        "3. Execute the following cell (click on it and press Ctrl+Enter) to install Julia, IJulia and other packages (if needed, update `JULIA_VERSION` and the other parameters). This takes a couple of minutes.\n",
        "4. Reload this page (press Ctrl+R, or ⌘+R, or the F5 key) and continue to the next section.\n",
        "\n",
        "_Notes_:\n",
        "* If your Colab Runtime gets reset (e.g., due to inactivity), repeat steps 2, 3 and 4.\n",
        "* After installation, if you want to change the Julia version or activate/deactivate the GPU, you will need to reset the Runtime: _Runtime_ > _Factory reset runtime_ and repeat steps 3 and 4."
      ],
      "metadata": {
        "id": "SlYlPBFE4RPY"
      }
    },
    {
      "cell_type": "code",
      "source": [
        "%%shell\n",
        "set -e\n",
        "\n",
        "#---------------------------------------------------#\n",
        "JULIA_VERSION=\"1.11.1\" # any version ≥ 0.7.0\n",
        "JULIA_PACKAGES=\"IJulia BenchmarkTools\"\n",
        "JULIA_PACKAGES_IF_GPU=\"CUDA\" # or CuArrays for older Julia versions\n",
        "JULIA_NUM_THREADS=2\n",
        "#---------------------------------------------------#\n",
        "\n",
        "if [ -z `which julia` ]; then\n",
        "  # Install Julia\n",
        "  JULIA_VER=`cut -d '.' -f -2 <<< \"$JULIA_VERSION\"`\n",
        "  echo \"Installing Julia $JULIA_VERSION on the current Colab Runtime...\"\n",
        "  BASE_URL=\"https://julialang-s3.julialang.org/bin/linux/x64\"\n",
        "  URL=\"$BASE_URL/$JULIA_VER/julia-$JULIA_VERSION-linux-x86_64.tar.gz\"\n",
        "  wget -nv $URL -O /tmp/julia.tar.gz # -nv means \"not verbose\"\n",
        "  tar -x -f /tmp/julia.tar.gz -C /usr/local --strip-components 1\n",
        "  rm /tmp/julia.tar.gz\n",
        "\n",
        "  # Install Packages\n",
        "  nvidia-smi -L &> /dev/null && export GPU=1 || export GPU=0\n",
        "  if [ $GPU -eq 1 ]; then\n",
        "    JULIA_PACKAGES=\"$JULIA_PACKAGES $JULIA_PACKAGES_IF_GPU\"\n",
        "  fi\n",
        "  for PKG in `echo $JULIA_PACKAGES`; do\n",
        "    echo \"Installing Julia package $PKG...\"\n",
        "    julia -e 'using Pkg; pkg\"add '$PKG'; precompile;\"' &> /dev/null\n",
        "  done\n",
        "\n",
        "  # Install kernel and rename it to \"julia\"\n",
        "  echo \"Installing IJulia kernel...\"\n",
        "  julia -e 'using IJulia; IJulia.installkernel(\"julia\", env=Dict(\"JULIA_NUM_THREADS\"=>\"'\"$JULIA_NUM_THREADS\"'\"))'\n",
        "  KERNEL_DIR=`julia -e \"using IJulia; print(IJulia.kerneldir())\"`\n",
        "  KERNEL_NAME=`ls -d \"$KERNEL_DIR\"/julia*`\n",
        "  mv -f $KERNEL_NAME \"$KERNEL_DIR\"/julia\n",
        "\n",
        "  echo ''\n",
        "  echo \"Successfully installed `julia -v`!\"\n",
        "  echo \"Please reload this page (press Ctrl+R, ⌘+R, or the F5 key) then\"\n",
        "  echo \"jump to the 'Checking the Installation' section.\"\n",
        "fi"
      ],
      "metadata": {
        "id": "73QHiPxc4ZG3",
        "outputId": "388e8e21-d01d-4135-8fcf-6fe69d9018f2",
        "colab": {
          "base_uri": "https://localhost:8080/"
        }
      },
      "execution_count": 1,
      "outputs": [
        {
          "output_type": "stream",
          "name": "stdout",
          "text": [
            "Installing Julia 1.11.1 on the current Colab Runtime...\n",
            "2024-12-07 14:46:21 URL:https://julialang-s3.julialang.org/bin/linux/x64/1.11/julia-1.11.1-linux-x86_64.tar.gz [254553793/254553793] -> \"/tmp/julia.tar.gz\" [1]\n",
            "Installing Julia package IJulia...\n",
            "Installing Julia package BenchmarkTools...\n",
            "Installing IJulia kernel...\n",
            "\u001b[36m\u001b[1m[ \u001b[22m\u001b[39m\u001b[36m\u001b[1mInfo: \u001b[22m\u001b[39mInstalling julia kernelspec in /root/.local/share/jupyter/kernels/julia-1.11\n",
            "\n",
            "Successfully installed julia version 1.11.1!\n",
            "Please reload this page (press Ctrl+R, ⌘+R, or the F5 key) then\n",
            "jump to the 'Checking the Installation' section.\n"
          ]
        },
        {
          "output_type": "execute_result",
          "data": {
            "text/plain": []
          },
          "metadata": {},
          "execution_count": 1
        }
      ]
    },
    {
      "cell_type": "code",
      "source": [
        "using Pkg\n",
        "Pkg.add(\"Latexify\")\n",
        "Pkg.add(\"LaTeXStrings\")\n",
        "Pkg.add(\"Combinatorics\")"
      ],
      "metadata": {
        "colab": {
          "base_uri": "https://localhost:8080/"
        },
        "id": "_gcvgxEzuzBo",
        "outputId": "cf61d7ad-4f88-49b0-a5e2-30884217d0af"
      },
      "execution_count": 1,
      "outputs": [
        {
          "output_type": "stream",
          "name": "stderr",
          "text": [
            "\u001b[32m\u001b[1m    Updating\u001b[22m\u001b[39m registry at `~/.julia/registries/General.toml`\n",
            "\u001b[32m\u001b[1m   Resolving\u001b[22m\u001b[39m package versions...\n",
            "\u001b[32m\u001b[1m   Installed\u001b[22m\u001b[39m LaTeXStrings ─────── v1.4.0\n",
            "\u001b[32m\u001b[1m   Installed\u001b[22m\u001b[39m MacroTools ───────── v0.5.13\n",
            "\u001b[32m\u001b[1m   Installed\u001b[22m\u001b[39m Format ───────────── v1.3.7\n",
            "\u001b[32m\u001b[1m   Installed\u001b[22m\u001b[39m OrderedCollections ─ v1.7.0\n",
            "\u001b[32m\u001b[1m   Installed\u001b[22m\u001b[39m Requires ─────────── v1.3.0\n",
            "\u001b[32m\u001b[1m   Installed\u001b[22m\u001b[39m Latexify ─────────── v0.16.5\n",
            "\u001b[32m\u001b[1m    Updating\u001b[22m\u001b[39m `~/.julia/environments/v1.11/Project.toml`\n",
            "  \u001b[90m[23fbe1c1] \u001b[39m\u001b[92m+ Latexify v0.16.5\u001b[39m\n",
            "\u001b[32m\u001b[1m    Updating\u001b[22m\u001b[39m `~/.julia/environments/v1.11/Manifest.toml`\n",
            "  \u001b[90m[1fa38f19] \u001b[39m\u001b[92m+ Format v1.3.7\u001b[39m\n",
            "  \u001b[90m[b964fa9f] \u001b[39m\u001b[92m+ LaTeXStrings v1.4.0\u001b[39m\n",
            "  \u001b[90m[23fbe1c1] \u001b[39m\u001b[92m+ Latexify v0.16.5\u001b[39m\n",
            "  \u001b[90m[1914dd2f] \u001b[39m\u001b[92m+ MacroTools v0.5.13\u001b[39m\n",
            "  \u001b[90m[bac558e1] \u001b[39m\u001b[92m+ OrderedCollections v1.7.0\u001b[39m\n",
            "  \u001b[90m[ae029012] \u001b[39m\u001b[92m+ Requires v1.3.0\u001b[39m\n",
            "\u001b[92m\u001b[1mPrecompiling\u001b[22m\u001b[39m project...\n",
            "   1801.3 ms\u001b[32m  ✓ \u001b[39m\u001b[90mLaTeXStrings\u001b[39m\n",
            "   2415.1 ms\u001b[32m  ✓ \u001b[39m\u001b[90mOrderedCollections\u001b[39m\n",
            "   4785.9 ms\u001b[32m  ✓ \u001b[39m\u001b[90mFormat\u001b[39m\n",
            "   2651.2 ms\u001b[32m  ✓ \u001b[39m\u001b[90mRequires\u001b[39m\n",
            "   7211.4 ms\u001b[32m  ✓ \u001b[39m\u001b[90mMacroTools\u001b[39m\n",
            "   4831.8 ms\u001b[32m  ✓ \u001b[39mLatexify\n",
            "  6 dependencies successfully precompiled in 16 seconds. 47 already precompiled.\n",
            "\u001b[32m\u001b[1m   Resolving\u001b[22m\u001b[39m package versions...\n",
            "\u001b[32m\u001b[1m    Updating\u001b[22m\u001b[39m `~/.julia/environments/v1.11/Project.toml`\n",
            "  \u001b[90m[b964fa9f] \u001b[39m\u001b[92m+ LaTeXStrings v1.4.0\u001b[39m\n",
            "\u001b[32m\u001b[1m  No Changes\u001b[22m\u001b[39m to `~/.julia/environments/v1.11/Manifest.toml`\n",
            "\u001b[32m\u001b[1m   Resolving\u001b[22m\u001b[39m package versions...\n",
            "\u001b[32m\u001b[1m   Installed\u001b[22m\u001b[39m Combinatorics ─ v1.0.2\n",
            "\u001b[32m\u001b[1m    Updating\u001b[22m\u001b[39m `~/.julia/environments/v1.11/Project.toml`\n",
            "  \u001b[90m[861a8166] \u001b[39m\u001b[92m+ Combinatorics v1.0.2\u001b[39m\n",
            "\u001b[32m\u001b[1m    Updating\u001b[22m\u001b[39m `~/.julia/environments/v1.11/Manifest.toml`\n",
            "  \u001b[90m[861a8166] \u001b[39m\u001b[92m+ Combinatorics v1.0.2\u001b[39m\n",
            "\u001b[92m\u001b[1mPrecompiling\u001b[22m\u001b[39m project...\n",
            "   2042.6 ms\u001b[32m  ✓ \u001b[39mCombinatorics\n",
            "  1 dependency successfully precompiled in 2 seconds. 53 already precompiled.\n"
          ]
        }
      ]
    },
    {
      "cell_type": "markdown",
      "metadata": {
        "id": "gpXMhivm09lu"
      },
      "source": [
        "# PolyLogToolkit"
      ]
    },
    {
      "cell_type": "markdown",
      "metadata": {
        "id": "wl6VZ4en09lv"
      },
      "source": [
        "*LogToolkit* is a script implemented to support symbolic computations of multiple polylogarithms, detailed in Haoran Li's dissertation [Hopf Algebra of Multiple Polylogarithms and Its Associated One Forms](https://lihaoranicefire.github.io/math/LogToolKit/HopfAlgebraOfMultiplePolylogarithmsAndItsAssociatedOneForms.pdf)"
      ]
    },
    {
      "cell_type": "markdown",
      "metadata": {
        "id": "Q8hdb9M2IfVN"
      },
      "source": [
        "## $\\mathbb I^{\\text{Symb}}$\n",
        "\n",
        "$I(a_{i_0}; 0^{n_0-1}, a_{i_1}, 0^{n_1-1}, \\cdots, a_{i_m}, 0^{n_m-1}; a_{i_{m+1}})\\leftrightsquigarrow (i_0, n_0, i_1, n_1, \\cdots, i_m, n_m, i_{m+1})$ is of weight $n_0+\\cdots+n_m-1$"
      ]
    },
    {
      "cell_type": "code",
      "source": [
        "LaTeXString(ISymb((0,1,1,10)...,2).latex_repr)"
      ],
      "metadata": {
        "colab": {
          "base_uri": "https://localhost:8080/",
          "height": 39
        },
        "id": "UiUc-51nvhOl",
        "outputId": "cec0b609-b76a-4f83-bdd6-2471c601e24b"
      },
      "execution_count": 5,
      "outputs": [
        {
          "output_type": "execute_result",
          "data": {
            "text/plain": [
              "L\"I(a_{0},a_{1},0^{9},a_{2})\""
            ],
            "text/latex": "I(a_{0},a_{1},0^{9},a_{2})"
          },
          "metadata": {},
          "execution_count": 5
        }
      ]
    },
    {
      "cell_type": "markdown",
      "source": [
        "There is a total ordering $(i_0, n_0, i_1, n_1, \\cdots, i_m, n_m, i_{m+1})\\prec(i'_0, n'_0, i'_1, n'_1, \\cdots, i'_{m'}, n'_{m'}, i'_{m'+1})$\n",
        "- if: $\\sum n_k < \\sum n'_k$\n",
        "<!-- - else if: $i_{m+1} < i'_{m'+1}$ -->\n",
        "- else: $i_{m-r} < i'_{m'-r}$ or $n_{m-r} > n'_{m'-r}$ and the entries to the right coincide"
      ],
      "metadata": {
        "id": "-Q0AJiogFdKc"
      }
    },
    {
      "cell_type": "code",
      "source": [
        "ISymb(0,1,1,10,2) <= ISymb(0,1,1,10,2)"
      ],
      "metadata": {
        "id": "u47hbFzI3Jjf"
      },
      "execution_count": null,
      "outputs": []
    },
    {
      "cell_type": "markdown",
      "source": [
        "### $\\Phi$ map\n",
        "\n",
        "- $\\Phi(I(a; b)) = 1,\\quad \\Phi(I(0; \\cdots; 0)) = 0$\n",
        "\n",
        "- $\\Phi(I(a_{i_0};0^{n_0-1},\\cdots,a_{i_m},0^{n_m-1};0))=(-1)^{n_0+\\cdots+n_m-1}\\Phi(I(0;0^{n_m-1},a_{i_m},\\cdots,0^{n_0-1};a_{i_0})),\\quad a_{i_0}\\neq0$\n",
        "\n",
        "- $\\Phi(I(a_{i_0};0^{n_0-1},\\cdots,a_{i_m},0^{n_m-1};a_{i_{m+1}}))\\\\\n",
        "\\displaystyle=\\sum_{k=0}^m\\sum_{p+q=n_k>1}\\Phi(I(a_{i_0};\\cdots,a_{i_k},0^{p-1};0))\\Phi(I(0,0^{q-1},a_{i_{k+1}},\\cdots;a_{i_{m+1}})),\\quad a_{i_0}, a_{i_{m+1}} \\neq 0$\n",
        "\n",
        "- $\\Phi(I(0;0^{n_0-1},a_{i_1},0^{n_1-1},\\cdots,a_{i_m},0^{n_m-1};a_{i_{m+1}}))=\\\\\n",
        "\\displaystyle\\sum_{p_0+\\cdots+p_m=n_0-1}(-1)^{n_0+p_0+m-1}\\dfrac{\\log^{p_0}(a_{i_{m+1}})}{p_0!}\\binom{n_1+p_1-1}{n_1-1}\\cdots\\binom{n_m+p_m-1}{n_m-1}\\left[\\frac{a_{i_2}}{a_{i_1}},\\cdots,\\frac{a_{i_{m+1}}}{a_{i_m}}\\right]_{n_1+p_1,\\cdots,n_m+p_m}$\n",
        "\n",
        "Note: $\\log^0(a_{i_{m+1}})$ is taken to be $1$ for $p_0=0$ even if $a_{i_{m+1}}=1$"
      ],
      "metadata": {
        "id": "Uigvx_QP3RCE"
      }
    },
    {
      "cell_type": "markdown",
      "source": [
        "### Implementation of $\\Phi$\n",
        "\n",
        "- $\\Phi(i_0,1,i_1) = 1,\\quad \\Phi(0,n_0,\\cdots,n_m,0) = 0$\n",
        "\n",
        "- $\\Phi(i_0, n_0, \\cdots, i_m, n_m, 0)=(-1)^{n_0+\\cdots+n_m-1}\\Phi(0,n_m,i_m,\\cdots,n_0,i_0),\\quad i_0\\neq0$\n",
        "\n",
        "- $\\displaystyle\\Phi(i_0,n_0,\\cdots,i_m,n_m,i_{m+1})=\\sum_{k=0}^m\\sum_{p+q=n_k>1}\\Phi(i_0,\\cdots,i_k,p;0)\\Phi(0,q,i_{k+1},\\cdots;i_{m+1}),\\quad i_0,i_{m+1} \\neq 0$\n",
        "\n",
        "- $\\displaystyle\\Phi(0;n_0,i_1,n_1,\\cdots,i_m,n_m,d+1)=\\sum_{p_1+\\cdots+p_m=n_0-1}(-1)^{n_0+m-1}\\binom{n_1+p_1-1}{n_1-1}\\cdots\\binom{n_m+p_m-1}{n_m-1}\\\\(i_1,n_1+p_1,i_2-i_1,\\cdots,i_m-i_{m-1},n_m+p_m,d+1-i_m)$\n",
        "\n",
        "- $\\displaystyle\\Phi(0;n_0,i_1,n_1,\\cdots,i_m,n_m,i_{m+1})=\\sum_{p_0+\\cdots+p_m=n_0-1}(-1)^{n_0+p_0+m-1}\\dfrac{(i_{m+1},1,d+1)^{p_0}}{p_0!}\\binom{n_1+p_1-1}{n_1-1}\\cdots\\binom{n_m+p_m-1}{n_m-1}\\\\(i_1,n_1+p_1,i_2-i_1,\\cdots,i_m-i_{m-1},n_m+p_m,i_{m+1}-i_m)$"
      ],
      "metadata": {
        "id": "vQKQQZxr3V5l"
      }
    },
    {
      "cell_type": "code",
      "source": [
        "(\n",
        "    ISymb(0,1,1,1,2) * monomial{Symb}(ISymb(0,1,1,1,2), (ISymb(0,1,1,3,2), 3))\n",
        ").latex_repr"
      ],
      "metadata": {
        "colab": {
          "base_uri": "https://localhost:8080/",
          "height": 269
        },
        "id": "LsV1f2yUQKEP",
        "outputId": "de6b9cca-f79c-424c-a16d-28dc2aaa219c"
      },
      "execution_count": 23,
      "outputs": [
        {
          "output_type": "error",
          "ename": "LoadError",
          "evalue": "MethodError: no method matching monomial{Symb}(::ISymb, ::Pair{Symb, Int64}, ::Pair{Symb, Int64})\nThe type `monomial{Symb}` exists, but no method is defined for this combination of argument types when trying to construct it.\n\n\u001b[0mClosest candidates are:\n\u001b[0m  monomial{T}(\u001b[91m::Union{Tuple{T, Int64}, T}...\u001b[39m) where T\n\u001b[0m\u001b[90m   @\u001b[39m \u001b[36mMain\u001b[39m \u001b[90m\u001b[4mIn[4]:8\u001b[24m\u001b[39m\n",
          "traceback": [
            "MethodError: no method matching monomial{Symb}(::ISymb, ::Pair{Symb, Int64}, ::Pair{Symb, Int64})\nThe type `monomial{Symb}` exists, but no method is defined for this combination of argument types when trying to construct it.\n\n\u001b[0mClosest candidates are:\n\u001b[0m  monomial{T}(\u001b[91m::Union{Tuple{T, Int64}, T}...\u001b[39m) where T\n\u001b[0m\u001b[90m   @\u001b[39m \u001b[36mMain\u001b[39m \u001b[90m\u001b[4mIn[4]:8\u001b[24m\u001b[39m\n",
            "",
            "Stacktrace:",
            " [1] *(a::ISymb, b::monomial{Symb})",
            "   @ Main ./In[13]:7",
            " [2] top-level scope",
            "   @ In[23]:1"
          ]
        }
      ]
    },
    {
      "cell_type": "code",
      "source": [
        "(\n",
        "    ISymb(0,1,1,1,2) *\n",
        "    lincomb{monomial{Symb}}(\n",
        "        monomial{Symb}(ISymb(0,1,1,1,2), (ISymb(0,1,1,3,2), 3)),\n",
        "        (monomial{Symb}(ISymb(0,1,1,1,2)), Rational(2,3)), intercept=3.4*im\n",
        "    )\n",
        ").latex_repr"
      ],
      "metadata": {
        "id": "_57Ppo-k7GAH",
        "outputId": "6fff6e38-25d7-409a-e3cb-32f205785231",
        "colab": {
          "base_uri": "https://localhost:8080/",
          "height": 376
        }
      },
      "execution_count": 21,
      "outputs": [
        {
          "output_type": "error",
          "ename": "LoadError",
          "evalue": "MethodError: no method matching monomial{Symb}(::ISymb, ::Pair{Symb, Int64})\nThe type `monomial{Symb}` exists, but no method is defined for this combination of argument types when trying to construct it.\n\n\u001b[0mClosest candidates are:\n\u001b[0m  monomial{T}(\u001b[91m::Union{Tuple{T, Int64}, T}...\u001b[39m) where T\n\u001b[0m\u001b[90m   @\u001b[39m \u001b[36mMain\u001b[39m \u001b[90m\u001b[4mIn[4]:8\u001b[24m\u001b[39m\n",
          "traceback": [
            "MethodError: no method matching monomial{Symb}(::ISymb, ::Pair{Symb, Int64})\nThe type `monomial{Symb}` exists, but no method is defined for this combination of argument types when trying to construct it.\n\n\u001b[0mClosest candidates are:\n\u001b[0m  monomial{T}(\u001b[91m::Union{Tuple{T, Int64}, T}...\u001b[39m) where T\n\u001b[0m\u001b[90m   @\u001b[39m \u001b[36mMain\u001b[39m \u001b[90m\u001b[4mIn[4]:8\u001b[24m\u001b[39m\n",
            "",
            "Stacktrace:",
            " [1] *",
            "   @ ./In[13]:7 [inlined]",
            " [2] #11",
            "   @ ./In[13]:9 [inlined]",
            " [3] map(f::var\"#11#12\"{ISymb}, t::Tuple{Pair{monomial{Symb}, Number}, Pair{monomial{Symb}, Number}})",
            "   @ Base ./tuple.jl:356",
            " [4] *(a::ISymb, b::polynomial{Symb})",
            "   @ Main ./In[13]:9",
            " [5] top-level scope",
            "   @ In[21]:1"
          ]
        }
      ]
    },
    {
      "cell_type": "code",
      "source": [
        "println((\n",
        "    4 * ISymb(0,1,1,1,2)\n",
        ").latex_repr)\n",
        "println((\n",
        "    4 * monomial{Symb}(ISymb(0,1,1,1,2), (ISymb(0,1,1,3,2), 3))\n",
        ").latex_repr)\n",
        "println((\n",
        "    4 * tensor{Symb}(ISymb(0,1,1,1,2), ISymb(0,1,1,3,2))\n",
        ").latex_repr)\n",
        "println((\n",
        "    4 * polynomial{Symb}(monomial{Symb}(ISymb(0,1,1,1,2)))\n",
        ").latex_repr)\n",
        "println((\n",
        "    ISymb(0,1,1,1,2) * ISymb(0,1,1,1,2)\n",
        ").latex_repr)\n",
        "println((\n",
        "    ISymb(0,1,1,1,2) * monomial{Symb}(ISymb(0,1,1,1,2))\n",
        ").latex_repr)\n",
        "println((\n",
        "    ISymb(0,1,1,1,2) * polynomial{Symb}(monomial{Symb}(ISymb(0,1,1,1,2)))\n",
        ").latex_repr)\n",
        "println((\n",
        "    ISymb(0,1,1,1,2) * polynomial{Symb}(monomial{Symb}(ISymb(0,1,1,1,2)))\n",
        ").latex_repr)\n",
        "println((\n",
        "    monomial{Symb}(ISymb(0,1,1,1,2)) * monomial{Symb}(ISymb(0,1,1,1,2))\n",
        ").latex_repr)\n",
        "println((\n",
        "    monomial{Symb}(ISymb(0,1,1,1,2)) * polynomial{Symb}(monomial{Symb}(ISymb(0,1,1,1,2)))\n",
        ").latex_repr)"
      ],
      "metadata": {
        "id": "SaP1Ps11XwaU",
        "outputId": "de0bb808-97f0-49bc-96d0-830d4f8f2a7e",
        "colab": {
          "base_uri": "https://localhost:8080/"
        }
      },
      "execution_count": 13,
      "outputs": [
        {
          "output_type": "stream",
          "name": "stdout",
          "text": [
            "(4)I(a_{0},a_{1},a_{2})\n",
            "(4)I(a_{0},a_{1},a_{2})I(a_{0},a_{1},0^{2},a_{2})^{3}\n",
            "(4)I(a_{0},a_{1},a_{2})\\otimes I(a_{0},a_{1},0^{2},a_{2})\n",
            "(4)I(a_{0},a_{1},a_{2})\n",
            "I(a_{0},a_{1},a_{2})^{2}\n",
            "I(a_{0},a_{1},a_{2})^{2}\n",
            "I(a_{0},a_{1},a_{2})^{2}\n"
          ]
        }
      ]
    },
    {
      "cell_type": "code",
      "source": [
        "LaTeXString((\n",
        "    monomial{Symb}(ISymb(0,1,1,1,2)) * polynomial{Symb}(monomial{Symb}(ISymb(0,1,1,1,2)))\n",
        ").latex_repr)"
      ],
      "metadata": {
        "id": "2PpKpyhondYm",
        "outputId": "c984ece5-b0b0-48db-d472-0b48c6cf8edf",
        "colab": {
          "base_uri": "https://localhost:8080/",
          "height": 39
        }
      },
      "execution_count": 17,
      "outputs": [
        {
          "output_type": "execute_result",
          "data": {
            "text/plain": [
              "L\"I(a_{0},a_{1},a_{2})^{2}\""
            ],
            "text/latex": "I(a_{0},a_{1},a_{2})^{2}"
          },
          "metadata": {},
          "execution_count": 17
        }
      ]
    },
    {
      "cell_type": "code",
      "source": [
        "Base.:*(a::Number, b::Union{T, monomial{T}, tensor{T}}) where T = a == 0 ? 0 : lincomb{typeof(b)}((b, a))\n",
        "Base.:*(a::Union{T, monomial{T}, tensor{T}}, b::Number) where T = b * a\n",
        "Base.:*(a::Number, b::lincomb{T}) where T = lincomb{T}(map(x->(x.first, a*x.second), b.terms)...; intercept=a*b.intercept)\n",
        "Base.:*(a::lincomb{T}, b::Number) where T = b * a\n",
        "\n",
        "Base.:*(a::T, b::T) where T = monomial{Symb}(a, b)\n",
        "Base.:*(a::T, b::monomial{T}) where T = monomial{T}(a, b.vars...)\n",
        "Base.:*(a::monomial{T}, b::T) where T = b * a\n",
        "Base.:*(a::T, b::polynomial{T}) where T = polynomial{T}((monomial{T}(a), b.intercept), map(x->(a*x.first, x.second), b.terms)...)\n",
        "Base.:*(a::polynomial{T}, b::T) where T = b * a\n",
        "\n",
        "Base.:*(a::monomial{T}, b::monomial{T}) where T = monomial{T}(a.vars..., b.vars...)\n",
        "Base.:*(a::monomial{T}, b::polynomial{T}) where T = polynomial{T}((a, b.intercept), map(x->(a*x.first, x.second), b.terms)...)\n",
        "Base.:*(a::polynomial{T}, b::monomial{T}) where T = b * a\n",
        "# Base.:*(a::polynomial{T}, b::polynomial{T}) where T = a.intercept * b + sum(term * b for term in a.terms)\n",
        "\n",
        "Base.:*(a::tensor{T}, b::tensor{T}) where T =\n",
        "    if length(a.args) == length(b.args)\n",
        "        tensor(x*y for (x,y) in zip(a.args, b.args))\n",
        "    else\n",
        "        throw(ArgumentError(\"The arguments should have the same length\"))\n",
        "    end\n",
        "Base.:*(a::tensor{T}, b::lincomb{tensor{T}}) where T = lincomb{tensor{T}}((a, b.intercept), map(x->(a*x.first, x.second), b.terms)...)\n",
        "Base.:*(a::lincomb{tensor{T}}, b::tensor{T}) where T = b * a"
      ],
      "metadata": {
        "id": "ClsIDladY9As"
      },
      "execution_count": 16,
      "outputs": []
    },
    {
      "cell_type": "code",
      "source": [
        "struct monomial{T}\n",
        "    # T must be comparable type that has the latex_repr attribute\n",
        "    vars::Tuple{Vararg{Union{Pair{T, Int}}}}\n",
        "    deg::Int\n",
        "    latex_repr::String\n",
        "\n",
        "    # constructor for monomial{T}, Int refers to the exponent\n",
        "    function monomial{T}(vars::Vararg{Union{Tuple{T, Int}, Pair{T, Int}, T}}) where T\n",
        "        if length(vars) < 1\n",
        "            throw(ArgumentError(\"vars cannot be empty\"))\n",
        "        end\n",
        "        # multiply the variables\n",
        "        counter = Dict{T, Int}()\n",
        "        for var in vars\n",
        "            (key, value) = typeof(var) <: T ? (var, 1) : var\n",
        "            if value <= 0\n",
        "                throw(ArgumentError(\"the exponent must be at least 1\"))\n",
        "            end\n",
        "            counter[key] = get(counter, key, 0) + value\n",
        "        end\n",
        "\n",
        "        # sort the variables\n",
        "        vars = Tuple(sort(collect(counter)))\n",
        "\n",
        "        # compute the degree of the monomial\n",
        "        deg = sum([exponent for (_, exponent) in vars])\n",
        "\n",
        "        # generate latex_repr\n",
        "        latex_repr = \"\"\n",
        "        for (var, exponent) in vars\n",
        "            if exponent == 1\n",
        "                latex_repr *= \"$(var.latex_repr)\"\n",
        "            else\n",
        "                latex_repr *= \"$(var.latex_repr)^{$(exponent)}\"\n",
        "            end\n",
        "        end\n",
        "\n",
        "        return new{T}(vars, deg, latex_repr)\n",
        "    end\n",
        "end\n",
        "\n",
        "struct tensor{T}\n",
        "    # T must be a type that has the latex_repr attribute\n",
        "    args::Tuple{Vararg{T}}\n",
        "    latex_repr::String\n",
        "\n",
        "    # constructor for tensor{T}\n",
        "    function tensor{T}(args::Vararg{T}) where T\n",
        "        if length(args) < 2\n",
        "            throw(ArgumentError(\"the number of vars must be at least 2\"))\n",
        "        end\n",
        "        return new{T}(args, join(map(x -> x.latex_repr, args), \"\\\\otimes \"))\n",
        "    end\n",
        "end\n",
        "\n",
        "struct lincomb{T}\n",
        "    # T must be comparable type that has the latex_repr attribute\n",
        "    terms::Tuple{Vararg{Union{T, Pair{T, Number}}}}\n",
        "    intercept::Number\n",
        "    latex_repr::String\n",
        "\n",
        "    # constructor for lincomb, Number refers to the coefficient\n",
        "    # Number is in the second argument to ease the sorting of variables\n",
        "    function lincomb{T}(terms::Vararg{Union{T, Tuple{T, Number}, Pair{T, Int}}}; intercept=0) where T\n",
        "        if length(terms) < 1\n",
        "            throw(ArgumentError(\"the linear combination cannot be empty\"))\n",
        "        end\n",
        "        # add the variables\n",
        "        counter = Dict{T, Number}()\n",
        "        for term in terms\n",
        "            (key, value) = typeof(term) <: T ? (term, 1) : term\n",
        "            counter[key] = get(counter, key, 0) + value\n",
        "        end\n",
        "\n",
        "        # sort the variables\n",
        "        terms = Tuple(sort(collect(counter)))\n",
        "\n",
        "        # generate latex_repr\n",
        "        argstr = String[]\n",
        "        if intercept != 0\n",
        "            push!(argstr, \"($intercept)\")\n",
        "        end\n",
        "        for term in terms\n",
        "            if term.second == 0\n",
        "                continue\n",
        "            elseif term.second == 1\n",
        "                push!(argstr, term.first.latex_repr)\n",
        "            else\n",
        "                push!(argstr, \"($(term.second))\" * term.first.latex_repr)\n",
        "            end\n",
        "        end\n",
        "        latex_repr = join(argstr, '+')\n",
        "\n",
        "        return new{T}(terms, intercept, latex_repr)\n",
        "    end\n",
        "end\n",
        "polynomial{T} = lincomb{monomial{T}}\n",
        "\n",
        "## Overloading the Base operators <, *, +\n",
        "\n",
        "Base.isless(a::Number, b::Union{monomial, tensor}) = true\n",
        "Base.isless(a::Union{monomial, tensor}, b::Number) = false\n",
        "Base.isless(m1::monomial{T}, m2::monomial{T}) where T = m1.deg != m2.deg ? m1.deg < m2.deg : m1.vars < m2.vars\n",
        "Base.isless(t1::tensor{T}, t2::tensor{T}) where T = length(t1) != length(t2) ? length(t1) < length(t2) : t1.terms < t2.terms"
      ],
      "metadata": {
        "id": "nNAVCTIYs-1A"
      },
      "execution_count": 11,
      "outputs": []
    },
    {
      "cell_type": "code",
      "source": [
        "module LogToolKit\n",
        "\n",
        "\n",
        "\n",
        "export Symb, ISymb, HSymb, monomial, lincomb, tensor, Phi, Phi_inv, fundamental_column\n",
        "\n",
        "\n",
        "\n",
        "using LaTeXStrings\n",
        "using Latexify\n",
        "using Combinatorics\n",
        "\n",
        "\n",
        "\n",
        "function ordered_partitions(n::Int, k::Int; positive=true)\n",
        "    if positive\n",
        "        return union((unique(permutations(unordered_partition)) for unordered_partition in partitions(n + k, k))...)\n",
        "    else\n",
        "        return [partition .- 1 for partition in ordered_partitions(n, k)]\n",
        "    end\n",
        "end\n",
        "\n",
        "\n",
        "\n",
        "struct monomial{T}\n",
        "    # T must be comparable type that has the latex_repr attribute\n",
        "    vars::Tuple{Vararg{Union{Pair{T, Int}}}}\n",
        "    deg::Int\n",
        "    latex_repr::String\n",
        "\n",
        "    # constructor for monomial{T}, Int refers to the exponent\n",
        "    function monomial{T}(vars::Vararg{Union{Tuple{T, Int}, Pair{T, Int}, T}}) where T\n",
        "        if length(vars) < 1\n",
        "            throw(ArgumentError(\"vars cannot be empty\"))\n",
        "        end\n",
        "        # multiply the variables\n",
        "        counter = Dict{T, Int}()\n",
        "        for var in vars\n",
        "            (key, value) = typeof(var) <: T ? (var, 1) : var\n",
        "            if value <= 0\n",
        "                throw(ArgumentError(\"the exponent must be at least 1\"))\n",
        "            end\n",
        "            counter[key] = get(counter, key, 0) + value\n",
        "        end\n",
        "\n",
        "        # sort the variables\n",
        "        vars = Tuple(sort(collect(counter)))\n",
        "\n",
        "        # compute the degree of the monomial\n",
        "        deg = sum([exponent for (_, exponent) in vars])\n",
        "\n",
        "        # generate latex_repr\n",
        "        latex_repr = \"\"\n",
        "        for (var, exponent) in vars\n",
        "            if exponent == 1\n",
        "                latex_repr *= \"$(var.latex_repr)\"\n",
        "            else\n",
        "                latex_repr *= \"$(var.latex_repr)^{$(exponent)}\"\n",
        "            end\n",
        "        end\n",
        "\n",
        "        return new{T}(vars, deg, latex_repr)\n",
        "    end\n",
        "end\n",
        "\n",
        "struct tensor{T}\n",
        "    # T must be a type that has the latex_repr attribute\n",
        "    args::Tuple{Vararg{T}}\n",
        "    latex_repr::String\n",
        "\n",
        "    # constructor for tensor{T}\n",
        "    function tensor{T}(args::Vararg{T}) where T\n",
        "        if length(args) < 2\n",
        "            throw(ArgumentError(\"the number of vars must be at least 2\"))\n",
        "        end\n",
        "        return new{T}(args, join(map(x -> x.latex_repr, args), \"\\\\otimes \"))\n",
        "    end\n",
        "end\n",
        "\n",
        "struct lincomb{T}\n",
        "    # T must be comparable type that has the latex_repr attribute\n",
        "    terms::Tuple{Vararg{Union{T, Pair{T, Number}}}}\n",
        "    intercept::Number\n",
        "    latex_repr::String\n",
        "\n",
        "    # constructor for lincomb, Number refers to the coefficient\n",
        "    # Number is in the second argument to ease the sorting of variables\n",
        "    function lincomb{T}(terms::Vararg{Union{T, Tuple{T, Number}, Pair{T, Int}}}; intercept=0) where T\n",
        "        if length(terms) < 1\n",
        "            throw(ArgumentError(\"the linear combination cannot be empty\"))\n",
        "        end\n",
        "        # add the variables\n",
        "        counter = Dict{T, Number}()\n",
        "        for term in terms\n",
        "            (key, value) = typeof(term) <: T ? (term, 1) : term\n",
        "            counter[key] = get(counter, key, 0) + value\n",
        "        end\n",
        "\n",
        "        # sort the variables\n",
        "        terms = Tuple(sort(collect(counter)))\n",
        "\n",
        "        # generate latex_repr\n",
        "        argstr = String[]\n",
        "        if intercept != 0\n",
        "            push!(argstr, \"($intercept)\")\n",
        "        end\n",
        "        for term in terms\n",
        "            if term.second == 0\n",
        "                continue\n",
        "            elseif term.second == 1\n",
        "                push!(argstr, term.first.latex_repr)\n",
        "            else\n",
        "                push!(argstr, \"($(term.second))\" * term.first.latex_repr)\n",
        "            end\n",
        "        end\n",
        "        latex_repr = join(argstr, '+')\n",
        "\n",
        "        return new{T}(terms, intercept, latex_repr)\n",
        "    end\n",
        "end\n",
        "polynomial{T} = lincomb{monomial{T}}\n",
        "\n",
        "## Overloading the Base operators <, *, +\n",
        "\n",
        "Base.isless(a::Number, b::Union{monomial, tensor}) = true\n",
        "Base.isless(a::Union{monomial, tensor}, b::Number) = false\n",
        "Base.isless(m1::monomial{T}, m2::monomial{T}) where T = m1.deg != m2.deg ? m1.deg < m2.deg : m1.vars < m2.vars\n",
        "Base.isless(t1::tensor{T}, t2::tensor{T}) where T = length(t1) != length(t2) ? length(t1) < length(t2) : t1.terms < t2.terms\n",
        "\n",
        "\n",
        "\n",
        "\n",
        "\n",
        "abstract type Symb end\n",
        "\n",
        "\"\"\"\n",
        "    ISymb(args::Vararg{Int})\n",
        "\n",
        "Return an Iterated integral symbol with args\n",
        "\"\"\"\n",
        "\n",
        "struct ISymb <: Symb\n",
        "    args::Tuple{Vararg{Int}}\n",
        "    weight::Int\n",
        "    m::Int\n",
        "    i::Function\n",
        "    n::Function\n",
        "    latex_repr::String\n",
        "\n",
        "    function ISymb(args::Vararg{Int})\n",
        "        # Validate the number of arguments\n",
        "        if length(args) % 2 == 0 || length(args) < 3\n",
        "            throw(ArgumentError(\"The number of arguments should be odd and at least 3\"))\n",
        "        end\n",
        "\n",
        "        m = div(length(args), 2) - 1\n",
        "        i(r) = r > 0 ? args[1 + 2 * r] : 0\n",
        "        n(r) = args[2 + 2 * r]\n",
        "        argstrs = String[]\n",
        "\n",
        "        # Check the validity of arguments\n",
        "        if m < 0 || any(n(r) < 1 || i(r) >= i(r + 1) for r in 1:m)\n",
        "            throw(ArgumentError(\"The arguments are not valid\"))\n",
        "        end\n",
        "\n",
        "        # Form the latex string\n",
        "        for r in 0:m\n",
        "            push!(argstrs, \"a_{$(i(r))}\")\n",
        "            if n(r) == 2\n",
        "                push!(argstrs, \"0\")\n",
        "            elseif n(r) > 2\n",
        "                push!(argstrs, \"0^{$(n(r)-1)}\")\n",
        "            end\n",
        "        end\n",
        "        push!(argstrs, \"a_{$(i(m+1))}\")\n",
        "\n",
        "        # Return the final object\n",
        "        return new(args, sum(n(r) for r in 0:m) - 1, m, i, n, \"I($(join(argstrs, ',')))\")\n",
        "    end\n",
        "end\n",
        "\n",
        "Base.isless(a::ISymb, b::ISymb) = begin\n",
        "    if a.weight != b.weight\n",
        "        return a.weight < b.weight\n",
        "    end\n",
        "\n",
        "    for r in 0: a.m-1\n",
        "        if a.i(a.m-r) != b.i(b.m-r)\n",
        "            return a.i(a.m-r) < b.i(b.m-r)\n",
        "        elseif a.n(a.m-r) != b.n(b.m-r)\n",
        "            return a.n(a.m-r) > b.n(b.m-r)\n",
        "        end\n",
        "    end\n",
        "\n",
        "    return a.i(0) < b.i(0)\n",
        "end\n",
        "\n",
        "function Phi(I::ISymb, d::Int)\n",
        "    if d + 1 < I.i(I.m+1)\n",
        "        throw(ArgumentError(\"The depth is invalid\"))\n",
        "    end\n",
        "\n",
        "    if I.m == 0 && I.n(1) == 1\n",
        "        return 1\n",
        "    elseif I.i(0) == 0 && I.i(I.m+1) == 0\n",
        "        return 0\n",
        "    elseif I.i(0) > 0 && I.i(I.m+1) == 0\n",
        "        return (-1)^(I.weight) * Phi(ISymb(reverse(I.args)), d)\n",
        "    elseif I.i(0) > 0 && I.i(I.m+1) > 0\n",
        "        return sum(\n",
        "            sum(\n",
        "                Phi(ISymb(I.args[1:2*k+1]..., p, 0), d) * Phi(ISymb(0, I.n(k)-q, I.args[2*k+3:end]...), d)\n",
        "                for p in 0:I.n(k)\n",
        "            )\n",
        "            for k in 0:I.m\n",
        "        )\n",
        "    elseif I.i(0) == 0 && I.i(I.m+1) == d + 1\n",
        "        return sum(\n",
        "            (-1)^(I.n(0)+m-1) * product(binomial(I.n(r)+p[r]-1, p[r]) for r in 1:I.m)\n",
        "            * HSymb(I.i(1), vcat(([I.n(r)+p[r], I.i(r+1)-I.i(r)] for r in 1:I.m)...)...)\n",
        "            for p in nonnegative_partitions(I.n(0)-1, I.m)\n",
        "        )\n",
        "    elseif I.i(0) == 0 && I.i(I.m+1) > 0\n",
        "        return sum(\n",
        "            sum(\n",
        "                (-1)^(I.n(0)+p0+m-1) * HSymb(I.i(I.m+1),1,d+1)^p0 * product(binomial(I.n(r)+p[r]-1, p[r]) for r in 1:I.m)\n",
        "                * HSymb(I.i(1), vcat(([I.n(r)+p[r], I.i(r+1)-I.i(r)] for r in 1:I.m)...)...)\n",
        "                for p in nonnegative_partitions(I.n(0)-1-p0, I.m)\n",
        "            )\n",
        "            for p0 in 0:I.n(0)-1\n",
        "        )\n",
        "    end\n",
        "end\n",
        "\n",
        "\n",
        "\n",
        "struct HSymb <: Symb\n",
        "    args::Tuple{Vararg{Int}}\n",
        "    weight::Int\n",
        "    d::Int\n",
        "    i::Tuple{Vararg{Int}}\n",
        "    m::Function\n",
        "    n::Function\n",
        "    latex_repr::String\n",
        "\n",
        "    function HSymb(args::Vararg{Int})\n",
        "        # Validate the number of arguments\n",
        "        if length(args) % 2 == 0 || length(args) < 3\n",
        "            throw(ArgumentError(\"The number of arguments should be odd and at least 3\"))\n",
        "        end\n",
        "\n",
        "        d = div(length(args), 2)\n",
        "        i = cumsum(args[1:2:end])\n",
        "        m(r) = args[2 * r - 1]\n",
        "        n(r) = args[2 * r]\n",
        "        weight = n(1)==0 ? 1 : sum(n(r) for r in 1:d)\n",
        "        argstrs = String[]\n",
        "        indices = Int64[]\n",
        "\n",
        "        # Check the validity of arguments\n",
        "        if d <= 0 || any(m(r) < 1 for r in 1:d+1) || n(1)<0 || (d > 1 && any(n(r) < 1 for r in 1:d))\n",
        "            throw(ArgumentError(\"The arguments are not valid\"))\n",
        "        end\n",
        "\n",
        "        # Form the latex string\n",
        "        for r in 1:d\n",
        "            push!(argstrs, \"x_{$(i[r])\\\\to $(i[r+1])}\")\n",
        "            push!(indices, n(r))\n",
        "        end\n",
        "\n",
        "        # Return the final object\n",
        "        return new(args, weight, d, i, m, n, \"[$(join(argstrs, ','))]_{$(join(indices, ','))}\")\n",
        "    end\n",
        "end\n",
        "\n",
        "Base.isless(a::HSymb, b::HSymb) = begin\n",
        "    if a.weight != b.weight\n",
        "        return a.weight < b.weight\n",
        "    elseif a.i[end] != b.i[end]\n",
        "        return a.i[end] < b.i[end]\n",
        "    end\n",
        "\n",
        "    for r in 0: a.d-1\n",
        "        if a.m(a.d-r) != b.m(b.d-r)\n",
        "            return a.m(a.d-r) > b.m(b.d-r)\n",
        "        elseif a.n(a.d-r) != b.n(b.d-r)\n",
        "            return a.n(a.d-r) > b.n(b.d-r)\n",
        "        end\n",
        "    end\n",
        "\n",
        "    return false\n",
        "end\n",
        "\n",
        "function partial_differential(H::HSymb, r::Int)\n",
        "    if r > H.d || r < 1\n",
        "        throw(ArgumentError(\"The partial differential is invalid\"))\n",
        "    end\n",
        "end\n",
        "\n",
        "function differential(H::HSymb)\n",
        "\n",
        "end\n",
        "\n",
        "function Phi_inv(H::HSymb)\n",
        "    return (-1)^H.d * ISymb(0, 1, vcat(([H.i[r], H.n(r)] for r in 1:H.d)...)..., H.i[end])\n",
        "end\n",
        "\n",
        "\n",
        "\n",
        "function fundamental_column(h::HSymb)\n",
        "    visited = Set{HSymb}()\n",
        "    result = []\n",
        "\n",
        "    function dfs(H::HSymb)\n",
        "        if H in visited\n",
        "            return\n",
        "        end\n",
        "\n",
        "        push!(result, Phi_inv(H))\n",
        "        push!(visited, H)\n",
        "\n",
        "        if H.d == 1 && H.n(1) == 1\n",
        "            return\n",
        "        end\n",
        "\n",
        "        for r in 1:H.d\n",
        "            if H.n(r) > 1\n",
        "                dfs(HSymb(H.args[1:2*r-1]..., H.n(r)-1, H.args[2*r+1:end]...))\n",
        "            elseif r == H.d\n",
        "                dfs(HSymb(H.args[1:end-3]..., H.m(H.d)+H.m(H.d+1)))\n",
        "            else\n",
        "                dfs(HSymb(H.args[1:2*r-2]..., H.m(r)+H.m(r+1), H.args[2*r+2:end]...))\n",
        "                dfs(HSymb(H.args[1:2*r-1]..., H.n(r+1), H.m(r+1)+H.m(r+2), H.args[2*r+4:end]...))\n",
        "            end\n",
        "        end\n",
        "    end\n",
        "\n",
        "    dfs(h)\n",
        "    return [1, sort(result)...]\n",
        "end\n",
        "\n",
        "\n",
        "\n",
        "end"
      ],
      "metadata": {
        "colab": {
          "base_uri": "https://localhost:8080/"
        },
        "id": "6SK5gS2du9UT",
        "outputId": "39f6d2e5-3ca3-452d-99ea-5a3e177f9c4a"
      },
      "execution_count": 1,
      "outputs": [
        {
          "output_type": "execute_result",
          "data": {
            "text/plain": [
              "Main.LogToolKit"
            ]
          },
          "metadata": {},
          "execution_count": 1
        }
      ]
    },
    {
      "cell_type": "code",
      "source": [
        "# include(\"LogToolKit.jl\")\n",
        "using .LogToolKit\n",
        "using LaTeXStrings\n",
        "using Latexify\n",
        "using Combinatorics"
      ],
      "metadata": {
        "id": "OcxCe1FpoW7D"
      },
      "execution_count": 2,
      "outputs": []
    },
    {
      "cell_type": "code",
      "source": [
        "(HSymb(1,1,1,1,2) * 3).latex_repr"
      ],
      "metadata": {
        "colab": {
          "base_uri": "https://localhost:8080/"
        },
        "id": "pi7qH-06ix0A",
        "outputId": "d86845d2-6574-4020-f033-d06df31fe641"
      },
      "execution_count": 5,
      "outputs": [
        {
          "output_type": "execute_result",
          "data": {
            "text/plain": [
              "\"3[x_{1\\\\to 2},x_{2\\\\to 4}]_{1,1}\""
            ]
          },
          "metadata": {},
          "execution_count": 5
        }
      ]
    },
    {
      "cell_type": "markdown",
      "source": [
        "## $\\mathbb H^{\\text{Symb}}$\n",
        "\n",
        "$$\n",
        "[x_{i_1\\to i_2},\\cdots,x_{i_d\\to i_{d+1}}]_{n_1,\\cdots,n_d}\\leftrightsquigarrow(i_1,n_1,i_2-i_1,\\cdots,i_d-i_{d-1},n_d,i_{d+1}-i_d)\n",
        "$$\n",
        "\n",
        "Or $(m_1,n_1,\\cdots,m_d,n_d,m_{d+1})$ so that $i_r = m_1 + \\cdots + m_r$"
      ],
      "metadata": {
        "id": "McTQ96DfmI5r"
      }
    },
    {
      "cell_type": "code",
      "source": [
        "LaTeXString(HSymb(1,1,1,1,2).latex_repr)"
      ],
      "metadata": {
        "colab": {
          "base_uri": "https://localhost:8080/",
          "height": 39
        },
        "id": "eNw6C_hydEo-",
        "outputId": "b623422d-5000-4b42-b4c7-da03311669c4"
      },
      "execution_count": 5,
      "outputs": [
        {
          "output_type": "execute_result",
          "data": {
            "text/plain": [
              "L\"[x_{1\\to 2},x_{2\\to 4}]_{1,1}\""
            ],
            "text/latex": "[x_{1\\to 2},x_{2\\to 4}]_{1,1}"
          },
          "metadata": {},
          "execution_count": 5
        }
      ]
    },
    {
      "cell_type": "code",
      "source": [
        "map(x -> x isa Number ? x : x.latex_repr, fundamental_column(HSymb(1,2,2,3,3,4,4)))"
      ],
      "metadata": {
        "colab": {
          "base_uri": "https://localhost:8080/"
        },
        "id": "t3gUSC0NVlS5",
        "outputId": "69463459-0cbe-4902-d776-335871473e76"
      },
      "execution_count": 8,
      "outputs": [
        {
          "output_type": "execute_result",
          "data": {
            "text/plain": [
              "69-element Vector{Any}:\n",
              " 1\n",
              "  \"-1I(a_{0},a_{1},a_{10})\"\n",
              "  \"-1I(a_{0},a_{3},a_{10})\"\n",
              "  \"-1I(a_{0},a_{6},a_{10})\"\n",
              "  \"-1I(a_{0},a_{1},0,a_{10})\"\n",
              "  \"-1I(a_{0},a_{3},0,a_{10})\"\n",
              "  \"I(a_{0},a_{1},a_{3},a_{10})\"\n",
              "  \"-1I(a_{0},a_{6},0,a_{10})\"\n",
              "  \"I(a_{0},a_{1},a_{6},a_{10})\"\n",
              "  \"I(a_{0},a_{3},a_{6},a_{10})\"\n",
              "  \"-1I(a_{0},a_{1},0^{2},a_{10})\"\n",
              "  \"-1I(a_{0},a_{3},0^{2},a_{10})\"\n",
              "  \"I(a_{0},a_{1},a_{3},0,a_{10})\"\n",
              " ⋮\n",
              "  \"-1I(a_{0},a_{1},0,a_{3},0^{2},a_{6},a_{10})\"\n",
              "  \"I(a_{0},a_{1},0^{2},a_{6},0^{3},a_{10})\"\n",
              "  \"I(a_{0},a_{3},0^{2},a_{6},0^{3},a_{10})\"\n",
              "  \"-1I(a_{0},a_{1},a_{3},0,a_{6},0^{3},a_{10})\"\n",
              "  \"-1I(a_{0},a_{1},0,a_{3},a_{6},0^{3},a_{10})\"\n",
              "  \"-1I(a_{0},a_{1},a_{3},0^{2},a_{6},0^{2},a_{10})\"\n",
              "  \"-1I(a_{0},a_{1},0,a_{3},0,a_{6},0^{2},a_{10})\"\n",
              "  \"-1I(a_{0},a_{1},0,a_{3},0^{2},a_{6},0,a_{10})\"\n",
              "  \"-1I(a_{0},a_{1},a_{3},0^{2},a_{6},0^{3},a_{10})\"\n",
              "  \"-1I(a_{0},a_{1},0,a_{3},0,a_{6},0^{3},a_{10})\"\n",
              "  \"-1I(a_{0},a_{1},0,a_{3},0^{2},a_{6},0^{2},a_{10})\"\n",
              "  \"-1I(a_{0},a_{1},0,a_{3},0^{2},a_{6},0^{3},a_{10})\""
            ]
          },
          "metadata": {},
          "execution_count": 8
        }
      ]
    },
    {
      "cell_type": "markdown",
      "source": [
        "The total ordering is $(m_1,n_1,\\cdots,m_d,n_d,m_{d+1})\\prec(m'_1,n'_1,\\cdots,m'_{d'},n'_{d'},m'_{d'+1})$\n",
        "- if: $\\sum n_k < \\sum n'_k$\n",
        "- else if: $\\sum m_k < \\sum m'_k$\n",
        "- else: $m_{d-r} > m'_{d'-r}$ or $n_{d-r} > n'_{d'-r}$ and the entries to the right coincide"
      ],
      "metadata": {
        "id": "nEIVu_zaZIdf"
      }
    },
    {
      "cell_type": "code",
      "source": [
        "HSymb(1,2,1,1,2,8,3) > HSymb(1,4,1,3,2,4,3)"
      ],
      "metadata": {
        "colab": {
          "base_uri": "https://localhost:8080/"
        },
        "id": "jrctPql9lfRu",
        "outputId": "01f1c994-e292-47ec-df6f-4769b2f54947"
      },
      "execution_count": 7,
      "outputs": [
        {
          "output_type": "execute_result",
          "data": {
            "text/plain": [
              "false"
            ]
          },
          "metadata": {},
          "execution_count": 7
        }
      ]
    },
    {
      "cell_type": "markdown",
      "source": [
        "The $\\partial_{r}$ of $(m_1,n_1,\\cdots,m_d,n_d,m_{d+1})$ is\n",
        "- if $d = 1$ and $n_1 = 1$: $-dv_{i_1,i_2-1}$\n",
        "- else if $n_r>1$: $(\\cdots,n_r-1,\\cdots) du_{i_r, i_{r+1}-1}$\n",
        "- else if $r=d$: $-(\\cdots,n_{d-1},m_d+m_{d+1}) dv_{i_d,i_{d+1}-1}$\n",
        "- else: $-(\\cdots,m_{r}+m_{r+1},n_{r+1},\\cdots) dv_{i_r, i_{r+1}-1} + (\\cdots,m_r,n_{r+1},m_{r+1}+m_{r+2},\\cdots) (du_{i_r, i_{r+1}-1} - dv_{i_r, i_{r+1}-1})$\n",
        "\n",
        "Since\n",
        "$$\n",
        "[x_{i_1\\to i_2},\\cdots,x_{i_d\\to i_{d+1}}]_{n_1,\\cdots,n_d}\\leftrightsquigarrow I(a_0;a_{i_1},0^{n_1-1},\\cdots,a_{i_d},0^{n_d-1};a_{i_{d+1}})\n",
        "$$\n",
        "so `toISymb` is implemented as\n",
        "$$\n",
        "(m_1,n_1,\\cdots,m_d,n_d,m_{d+1})\\rightsquigarrow(0,1,i_1,n_1,\\cdots,i_d,n_d,i_{d+1})\n",
        "$$"
      ],
      "metadata": {
        "id": "o4hwgZX2kjb6"
      }
    },
    {
      "cell_type": "markdown",
      "source": [
        "$\\mathbb Q$ algberas"
      ],
      "metadata": {
        "id": "m7afn01Fmi4K"
      }
    },
    {
      "cell_type": "code",
      "source": [
        "LaTeXString(\n",
        "    monomial(\n",
        "        (ISymb(0,1,1,10,2), 1), (ISymb(0,1,1,3,2), 3),\n",
        "        coef = Rational(1,2)\n",
        "    ).latex_repr\n",
        ")\n",
        "# LaTeXString(monomial(coef = Rational(1,2)).latex_repr)"
      ],
      "metadata": {
        "colab": {
          "base_uri": "https://localhost:8080/",
          "height": 39
        },
        "id": "w9_EPxYUzdSS",
        "outputId": "36023458-1686-40ed-a066-3f33aadf7829"
      },
      "execution_count": 10,
      "outputs": [
        {
          "output_type": "execute_result",
          "data": {
            "text/plain": [
              "L\"1//2I(a_{0},a_{1},0^{2},a_{2})^{3}I(a_{0},a_{1},0^{9},a_{2})\""
            ],
            "text/latex": "1//2I(a_{0},a_{1},0^{2},a_{2})^{3}I(a_{0},a_{1},0^{9},a_{2})"
          },
          "metadata": {},
          "execution_count": 10
        }
      ]
    },
    {
      "cell_type": "code",
      "source": [
        "monomial((ISymb(0,1,1,10,2), 1), (ISymb(0,1,1,3,2), 3), coef = Rational(1,2)) > monomial((ISymb(0,1,1,10,2), 1), (ISymb(0,1,1,3,2), 2))"
      ],
      "metadata": {
        "colab": {
          "base_uri": "https://localhost:8080/"
        },
        "id": "MEPqSv0OW_Et",
        "outputId": "f52cc4ff-625f-42bf-e8f8-702e6577cede"
      },
      "execution_count": 11,
      "outputs": [
        {
          "output_type": "execute_result",
          "data": {
            "text/plain": [
              "true"
            ]
          },
          "metadata": {},
          "execution_count": 11
        }
      ]
    },
    {
      "cell_type": "code",
      "source": [
        "LaTeXString(\n",
        "    polynomial(\n",
        "        monomial((ISymb(0,1,1,10,2), 1), (ISymb(0,1,1,3,2), 3), coef = Rational(1,2)),\n",
        "        monomial((ISymb(0,1,1,10,2), 2), (ISymb(0,1,1,3,2), 1), coef = -6)\n",
        "    ).latex_repr\n",
        ")"
      ],
      "metadata": {
        "colab": {
          "base_uri": "https://localhost:8080/",
          "height": 39
        },
        "id": "hgcwv4rVTlsF",
        "outputId": "9c6e0d19-19df-49e7-ed92-e96bff93d6fa"
      },
      "execution_count": 12,
      "outputs": [
        {
          "output_type": "execute_result",
          "data": {
            "text/plain": [
              "L\"-6I(a_{0},a_{1},0^{2},a_{2})I(a_{0},a_{1},0^{9},a_{2})^{2}+1//2I(a_{0},a_{1},0^{2},a_{2})^{3}I(a_{0},a_{1},0^{9},a_{2})\""
            ],
            "text/latex": "-6I(a_{0},a_{1},0^{2},a_{2})I(a_{0},a_{1},0^{9},a_{2})^{2}+1//2I(a_{0},a_{1},0^{2},a_{2})^{3}I(a_{0},a_{1},0^{9},a_{2})"
          },
          "metadata": {},
          "execution_count": 12
        }
      ]
    },
    {
      "cell_type": "markdown",
      "source": [
        "## $\\mathbb L^{\\text{Symb}}$"
      ],
      "metadata": {
        "id": "xXNtd59-waB0"
      }
    },
    {
      "cell_type": "markdown",
      "metadata": {
        "id": "3OMcT03_axAT"
      },
      "source": [
        "## Tensor algebra"
      ]
    },
    {
      "cell_type": "markdown",
      "source": [
        "$$\n",
        "\\left(\\sum_{i_1}c_{i_i}^{(1)}t_{i_1}^{(1)}\\right)\\otimes\\cdots\\otimes\\left(\\sum_{i_N}c_{i_N}^{(N)}t_{i_N}^{(N)}\\right)=\\sum_{i_1,\\cdots,i_N}c_{i_i}^{(1)}\\cdots c_{i_N}^{(N)} t_{i_1}^{(1)}\\otimes\\cdots\\otimes t_{i_N}^{(N)}\n",
        "$$\n",
        "\n",
        "$$\n",
        "\\left(\\sum_{\\mathbf i}c_{\\mathbf i}^{(1)}t_{i_1}^{(1)}\\otimes\\cdots\\otimes t_{i_N}^{(1)}\\right)\\left(\\sum_{\\mathbf j}c_{\\mathbf j}^{(2)}t_{j_1}^{(2)}\\otimes\\cdots\\otimes t_{j_N}^{(2)}\\right)=\\sum_{\\mathbf i,\\mathbf j}c_{\\mathbf i}^{(1)}c_{\\mathbf j}^{(2)}\\left(t_{i_1}^{(1)}t_{j_1}^{(2)}\\right)\\otimes\\cdots\\otimes\\left(t_{i_N}^{(1)}t_{j_N}^{(2)}\\right)\n",
        "$$"
      ],
      "metadata": {
        "id": "pcUIqh-62ZyH"
      }
    },
    {
      "cell_type": "code",
      "source": [
        "LaTeXString(tensors(\n",
        "    tensor(ISymb(0,1,1,10,2), ISymb(0,1,1,3,2), coef = Rational(1,2)),\n",
        "    tensor(ISymb(0,1,1,4,2))\n",
        ").latex_repr)"
      ],
      "metadata": {
        "colab": {
          "base_uri": "https://localhost:8080/",
          "height": 358
        },
        "id": "kUG2fGF3ICRX",
        "outputId": "b6e775cb-c0ba-4db4-c20b-d2d6ed84392a"
      },
      "execution_count": 17,
      "outputs": [
        {
          "output_type": "error",
          "ename": "LoadError",
          "evalue": "MethodError: no method matching sort(::Tuple{tensor, tensor})\nThe function `sort` exists, but no method is defined for this combination of argument types.\n\n\u001b[0mClosest candidates are:\n\u001b[0m  sort(\u001b[91m::Union{OrderedCollections.OrderedDict, OrderedCollections.OrderedSet}\u001b[39m; args...)\n\u001b[0m\u001b[90m   @\u001b[39m \u001b[36mOrderedCollections\u001b[39m \u001b[90m~/.julia/packages/OrderedCollections/5e4BO/src/\u001b[39m\u001b[90m\u001b[4mdict_sorting.jl:45\u001b[24m\u001b[39m\n\u001b[0m  sort(\u001b[91m::Dict\u001b[39m; args...)\n\u001b[0m\u001b[90m   @\u001b[39m \u001b[36mOrderedCollections\u001b[39m \u001b[90m\u001b[4mdeprecated.jl:103\u001b[24m\u001b[39m\n\u001b[0m  sort(\u001b[91m::OrderedCollections.LittleDict\u001b[39m; byvalue, args...)\n\u001b[0m\u001b[90m   @\u001b[39m \u001b[36mOrderedCollections\u001b[39m \u001b[90m~/.julia/packages/OrderedCollections/5e4BO/src/\u001b[39m\u001b[90m\u001b[4mdict_sorting.jl:49\u001b[24m\u001b[39m\n\u001b[0m  ...\n",
          "traceback": [
            "MethodError: no method matching sort(::Tuple{tensor, tensor})\nThe function `sort` exists, but no method is defined for this combination of argument types.\n\n\u001b[0mClosest candidates are:\n\u001b[0m  sort(\u001b[91m::Union{OrderedCollections.OrderedDict, OrderedCollections.OrderedSet}\u001b[39m; args...)\n\u001b[0m\u001b[90m   @\u001b[39m \u001b[36mOrderedCollections\u001b[39m \u001b[90m~/.julia/packages/OrderedCollections/5e4BO/src/\u001b[39m\u001b[90m\u001b[4mdict_sorting.jl:45\u001b[24m\u001b[39m\n\u001b[0m  sort(\u001b[91m::Dict\u001b[39m; args...)\n\u001b[0m\u001b[90m   @\u001b[39m \u001b[36mOrderedCollections\u001b[39m \u001b[90m\u001b[4mdeprecated.jl:103\u001b[24m\u001b[39m\n\u001b[0m  sort(\u001b[91m::OrderedCollections.LittleDict\u001b[39m; byvalue, args...)\n\u001b[0m\u001b[90m   @\u001b[39m \u001b[36mOrderedCollections\u001b[39m \u001b[90m~/.julia/packages/OrderedCollections/5e4BO/src/\u001b[39m\u001b[90m\u001b[4mdict_sorting.jl:49\u001b[24m\u001b[39m\n\u001b[0m  ...\n",
            "",
            "Stacktrace:",
            " [1] tensors(::tensor, ::Vararg{tensor})",
            "   @ Main ./In[16]:224",
            " [2] top-level scope",
            "   @ In[17]:1"
          ]
        }
      ]
    },
    {
      "cell_type": "markdown",
      "metadata": {
        "id": "nUfPAfzDaxAT"
      },
      "source": [
        "## $\\bigwedge^*\\mathbb L^{\\text{Symb}}$"
      ]
    },
    {
      "cell_type": "code",
      "source": [
        "function complementary_entry(H1::Union{HSymb, Int}, H2::Union{HSymb, Int})\n",
        "    k, l = H1.d, H2.d\n",
        "    i(r) = r == 0 ? 0 : H1.i[r]\n",
        "    j(r) = r == 0 ? 0 : H2.i[r]\n",
        "    m, p = H1.m, H2.m\n",
        "    overlapping_indices = Int[]\n",
        "    for r in 1:k\n",
        "        index = findfirst(x->x==i(r), map(j, ))\n",
        "    end\n",
        "\n",
        "\n",
        "    function Isigma(r::Int)\n",
        "        return sum(\n",
        "            sum(\n",
        "                ISymb(j(q(r)),...,j(s),u,0) *\n",
        "                ISymb(0,v,j(s+1),...,j(q(r+1)))\n",
        "                for u in 0:p(s)-m(r)\n",
        "            )\n",
        "            for s in q(r):q(r+1)-1 if m(r) <= p(s)\n",
        "        )\n",
        "    end\n",
        "end"
      ],
      "metadata": {
        "id": "fNiUBS_a6kIh"
      },
      "execution_count": null,
      "outputs": []
    },
    {
      "cell_type": "markdown",
      "source": [
        "## Variation matrix over $S_d(\\mathbb C)$\n",
        "\n",
        "Recall the *complementary entry* of $(-1)^kI(0;a_{i_1},0^{m_{1}-1},\\cdots,a_{i_k},0^{m_{k}-1};1)$ with respect to $(-1)^lI(0;a_{j_1},0^{p_{1}-1},\\cdots,a_{j_l},0^{p_{l}-1};1)$ is\n",
        "$$\n",
        "(-1)^{l-k} I^{\\sigma_{i_1}\\sigma_0^{m_{1}-1}\\cdots\\sigma_{i_k}\\sigma_0^{m_{k}-1}}(0;a_{j_1},0^{p_{1}-1},\\cdots,a_{j_l},0^{p_{l}-1};1)\n",
        "$$\n",
        "\n",
        "$\\sigma_{i_1}\\sigma_0^{m_1-1}\\cdots\\sigma_{i_k}\\sigma_0^{m_k-1}$ should correspond to $(0,1,i_1,m_1,\\cdots, i_k,m_k)$\n",
        "\n",
        "Suppose $\\{i_1,\\cdots,i_k\\}=\\{j_{q_1},\\cdots,j_{q_k}\\}$ is a subsequence of $\\{j_1,\\cdots,j_l\\}$ (otherwise the complementary entry is 0), then the complementary entry is\n",
        "\n",
        "$$\n",
        "(-1)^{l-k}I(0;\\cdots;a_{j_{q_1}})\\left(\\prod_{r=1}^{k-1} I^{\\sigma_0^{m_r-1}}(a_{j_{q_r}};\\cdots;a_{j_{q_{r+1}}})\\right)I^{\\sigma_0^{m_k-1}}(a_{j_{q_k}};\\cdots;1)\n",
        "$$\n",
        "\n",
        "Assume\n",
        "- $a_0=0$, $a_{d+1}=1$\n",
        "- $i_0=j_0=0$, $i_{k+1}=j_{l+1}=d+1$ so that $q_0=0$, $q_{k+1}=l$,\n",
        "- $m_0=1$\n",
        "\n",
        "then the complementary entry is\n",
        "$$\n",
        "(-1)^{l-k}\\prod_{r=0}^{k} I^{\\sigma_0^{m_r-1}}(a_{j_{q_r}};\\cdots;a_{j_{q_{r+1}}})\n",
        "$$\n",
        "If $m_r > 1$, it is equal to\n",
        "$$\n",
        "I^{\\sigma_0^{m_r-1}}(a_{j_{q_r}};\\cdots;a_{j_{q_{r+1}}})=\\sum_{\\substack{q_r\\leq s<q_{r+1} \\\\ m_r \\leq p_s}}\\sum_{u+v=p_s-m_r}I(a_{j_{q_r}};\\cdots,a_{j_s},0^{u};0)I(0;0^{v},a_{j_{s+1}},\\cdots;a_{j_{q_{r+1}}})\n",
        "$$\n",
        "\n",
        "\n",
        "\n",
        "`complementaryEntry(w1, w2)`: the complementary entry of $w_1 = (0,1,j_1,p_1,\\cdots,j_l,p_l)$ and $w_2 = (0,1,i_1,m_1,\\cdots,i_k,m_k)$. Which should be the product of `Isigma(r)` from $r=0$ to $k$"
      ],
      "metadata": {
        "id": "c4i1Rf0iSENG"
      }
    },
    {
      "cell_type": "code",
      "source": [],
      "metadata": {
        "id": "Wx0vaBkpw04Y"
      },
      "execution_count": null,
      "outputs": []
    },
    {
      "cell_type": "markdown",
      "source": [
        "## One form"
      ],
      "metadata": {
        "id": "kx0tUMiLwE4E"
      }
    },
    {
      "cell_type": "code",
      "source": [],
      "metadata": {
        "id": "_4iiSp2miM6_"
      },
      "execution_count": null,
      "outputs": []
    },
    {
      "cell_type": "markdown",
      "source": [
        "## Connection form"
      ],
      "metadata": {
        "id": "k0jrNEIvwXnB"
      }
    },
    {
      "cell_type": "code",
      "source": [],
      "metadata": {
        "id": "2f4XFRkexPwf"
      },
      "execution_count": null,
      "outputs": []
    }
  ],
  "metadata": {
    "colab": {
      "provenance": []
    },
    "kernelspec": {
      "display_name": "julia 1.11.1",
      "name": "julia"
    }
  },
  "nbformat": 4,
  "nbformat_minor": 0
}