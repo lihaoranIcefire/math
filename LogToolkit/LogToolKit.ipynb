{
  "cells": [
    {
      "cell_type": "markdown",
      "metadata": {
        "id": "gpXMhivm09lu"
      },
      "source": [
        "# PolyLogToolkit"
      ]
    },
    {
      "cell_type": "markdown",
      "metadata": {
        "id": "wl6VZ4en09lv"
      },
      "source": [
        "*LogToolkit* is a script implemented to support symbolic computations of multiple polylogarithms, detailed in Haoran Li's dissertation [Hopf Algebra of Multiple Polylogarithms and Its Associated One Forms](https://lihaoranicefire.github.io/math/LogToolKit/HopfAlgebraOfMultiplePolylogarithmsAndItsAssociatedOneForms.pdf)"
      ]
    },
    {
      "cell_type": "markdown",
      "metadata": {
        "id": "3OMcT03_axAT"
      },
      "source": [
        "#### Tensor $\\otimes$"
      ]
    },
    {
      "cell_type": "markdown",
      "metadata": {
        "id": "nUfPAfzDaxAT"
      },
      "source": [
        "#### Wedge $\\wedge$"
      ]
    },
    {
      "cell_type": "markdown",
      "metadata": {
        "id": "6wWFAdJaaxAT"
      },
      "source": [
        "#### Differential $d$"
      ]
    },
    {
      "cell_type": "markdown",
      "metadata": {
        "id": "Q8hdb9M2IfVN"
      },
      "source": [
        "Elements in $\\mathbb I^{\\text{Symb}}$\n",
        "\n",
        "$$\n",
        "I(a_{i_0}; 0^{n_0-1}, a_{i_1}, 0^{n_1-1}, \\cdots, a_{i_m}, 0^{m_d-1}; a_{i_{m+1}})\\leftrightsquigarrow (i_0, n_0, i_1, n_1, \\cdots, i_m, n_m, i_{m+1})\n",
        "$$\n",
        "\n",
        "for example, in depth $2$, $I(a_0; 0^{1-1}, a_1, 0^{3-1}, a_2, 0^{2-1}; a_3)\\leftrightsquigarrow(0,1,1,3,2,2,2)$"
      ]
    },
    {
      "cell_type": "markdown",
      "source": [
        "Recall there is a total ordering on the generators $\\mathbb H^{\\text{Symb}}$ by encoding\n",
        "\n",
        "$$\n",
        "[x_{i_1\\to i_2},\\cdots,x_{i_d\\to i_{d+1}}]_{n_1,\\cdots,n_d}\\leftrightsquigarrow(0^{i_1-1},n_1,\\cdots,0^{i_d-i_{d-1}-1},n_d,0^{i_{d+1}-i_d-1})\n",
        "$$\n",
        "\n",
        "We regard $(0^{m_1},n_1,\\cdots,0^{m_d},n_d,0^{m_{d+1}})$ as $(m_1,n_1,\\cdots,m_d,n_d,m_{d+1})$ in the implementation."
      ],
      "metadata": {
        "id": "McTQ96DfmI5r"
      }
    },
    {
      "cell_type": "code",
      "source": [
        "from sympy import *\n",
        "II = IndexedBase('II')\n",
        "Li = IndexedBase('Li')"
      ],
      "metadata": {
        "id": "qiJsOGNxc4bp"
      },
      "execution_count": 64,
      "outputs": []
    },
    {
      "cell_type": "code",
      "execution_count": 191,
      "metadata": {
        "id": "rpEzBFEHWeLP"
      },
      "outputs": [],
      "source": [
        "class ISymb:\n",
        "    def __new__(cls, *args):\n",
        "        return II[args]\n",
        "    def __repr__(self):\n",
        "        return f'I{self.args}'"
      ]
    },
    {
      "cell_type": "code",
      "source": [
        "class HSymb:\n",
        "    def __new__(cls, *args):\n",
        "        return Li[args]\n",
        "    def __repr__(self):\n",
        "        return f'Li{self.args}'"
      ],
      "metadata": {
        "id": "kghmUR52ntg-"
      },
      "execution_count": 197,
      "outputs": []
    },
    {
      "cell_type": "code",
      "source": [
        "class tensor:\n",
        "    def __init__(self, *comp):\n",
        "        self.comp = comp"
      ],
      "metadata": {
        "id": "pduUDyfXkigS"
      },
      "execution_count": null,
      "outputs": []
    },
    {
      "cell_type": "code",
      "source": [
        "(ISymb(1,2,3).args)"
      ],
      "metadata": {
        "id": "KJ05QXQSm-vz",
        "outputId": "46910892-fa52-4161-f5fe-0275275b77c2",
        "colab": {
          "base_uri": "https://localhost:8080/"
        }
      },
      "execution_count": 188,
      "outputs": [
        {
          "output_type": "execute_result",
          "data": {
            "text/plain": [
              "(I, 1, 2, 3)"
            ]
          },
          "metadata": {},
          "execution_count": 188
        }
      ]
    },
    {
      "cell_type": "code",
      "source": [
        "ISymb(1) * ISymb(2) + ISymb(2,3,4) ** 2"
      ],
      "metadata": {
        "id": "sAtneKcAkYp6",
        "outputId": "97fa07de-70a9-4081-8470-dc2db0ea1796",
        "colab": {
          "base_uri": "https://localhost:8080/",
          "height": 38
        }
      },
      "execution_count": 200,
      "outputs": [
        {
          "output_type": "execute_result",
          "data": {
            "text/plain": [
              "I[1]*I[2] + I[2, 3, 4]**2"
            ],
            "text/latex": "$\\displaystyle {I}_{1} {I}_{2} + {I}_{2,3,4}^{2}$"
          },
          "metadata": {},
          "execution_count": 200
        }
      ]
    },
    {
      "cell_type": "code",
      "source": [
        "(Rational(2, 3) * ISymb(1) * (1 + 2 * I)).args"
      ],
      "metadata": {
        "id": "mshiHHbodPXW",
        "outputId": "9dcd99d9-e889-4094-9778-d1a5d8924e25",
        "colab": {
          "base_uri": "https://localhost:8080/",
          "height": 141
        }
      },
      "execution_count": 212,
      "outputs": [
        {
          "output_type": "error",
          "ename": "NameError",
          "evalue": "name 'Complex' is not defined",
          "traceback": [
            "\u001b[0;31m---------------------------------------------------------------------------\u001b[0m",
            "\u001b[0;31mNameError\u001b[0m                                 Traceback (most recent call last)",
            "\u001b[0;32m<ipython-input-212-1bea9ce39dc7>\u001b[0m in \u001b[0;36m<cell line: 1>\u001b[0;34m()\u001b[0m\n\u001b[0;32m----> 1\u001b[0;31m \u001b[0;34m(\u001b[0m\u001b[0mRational\u001b[0m\u001b[0;34m(\u001b[0m\u001b[0;36m2\u001b[0m\u001b[0;34m,\u001b[0m \u001b[0;36m3\u001b[0m\u001b[0;34m)\u001b[0m \u001b[0;34m*\u001b[0m \u001b[0mISymb\u001b[0m\u001b[0;34m(\u001b[0m\u001b[0;36m1\u001b[0m\u001b[0;34m)\u001b[0m \u001b[0;34m*\u001b[0m \u001b[0mComplex\u001b[0m\u001b[0;34m(\u001b[0m\u001b[0;36m1\u001b[0m\u001b[0;34m,\u001b[0m \u001b[0;36m2\u001b[0m\u001b[0;34m)\u001b[0m\u001b[0;34m)\u001b[0m\u001b[0;34m.\u001b[0m\u001b[0margs\u001b[0m\u001b[0;34m\u001b[0m\u001b[0;34m\u001b[0m\u001b[0m\n\u001b[0m",
            "\u001b[0;31mNameError\u001b[0m: name 'Complex' is not defined"
          ]
        }
      ]
    },
    {
      "cell_type": "code",
      "source": [
        "(ISymb(IGen(1)) * ISymb(IGen(2)) + ISymb(IGen(2,3,4)) ** 2).degree()"
      ],
      "metadata": {
        "id": "koVcVRragMRv",
        "outputId": "f782eb74-de98-4eed-987a-1e6d5d215f74",
        "colab": {
          "base_uri": "https://localhost:8080/"
        }
      },
      "execution_count": 143,
      "outputs": [
        {
          "output_type": "execute_result",
          "data": {
            "text/plain": [
              "1"
            ]
          },
          "metadata": {},
          "execution_count": 143
        }
      ]
    },
    {
      "cell_type": "code",
      "source": [
        "(ISymb(IGen(1)) * ISymb(IGen(2)) + ISymb(IGen(2,3,4)) ** 2).terms()"
      ],
      "metadata": {
        "id": "6_eq-JdfgDpG",
        "outputId": "68270d58-0abb-400e-f6dc-3c9f5e353182",
        "colab": {
          "base_uri": "https://localhost:8080/"
        }
      },
      "execution_count": 142,
      "outputs": [
        {
          "output_type": "execute_result",
          "data": {
            "text/plain": [
              "[((1, 1, 0), 1), ((0, 0, 2), 1)]"
            ]
          },
          "metadata": {},
          "execution_count": 142
        }
      ]
    },
    {
      "cell_type": "code",
      "source": [
        "ISymb(IGen(1)) * ISymb(IGen(2)) + ISymb(IGen(2,3,4)) ** 2"
      ],
      "metadata": {
        "id": "iVdNWFn9eE_4",
        "outputId": "98899c1c-fd6b-4e53-d9ab-e31797479d3d",
        "colab": {
          "base_uri": "https://localhost:8080/",
          "height": 38
        }
      },
      "execution_count": 141,
      "outputs": [
        {
          "output_type": "execute_result",
          "data": {
            "text/plain": [
              "ISymb(I[1]*I[2] + I[2, 3, 4]**2, I[1], I[2], I[2, 3, 4], domain='QQ')"
            ],
            "text/latex": "$\\displaystyle \\operatorname{ISymb}{\\left( {I}_{1}{I}_{2} + {I}_{2,3,4}^{2}, {I}_{1}, {I}_{2}, {I}_{2,3,4}, domain=\\mathbb{Q} \\right)}$"
          },
          "metadata": {},
          "execution_count": 141
        }
      ]
    },
    {
      "cell_type": "code",
      "source": [
        "(Poly(I[0]*I[1])).degree()"
      ],
      "metadata": {
        "id": "emyt3qGbfZIf",
        "outputId": "4dd978c2-6042-4bf5-bf58-8dd9ee9b7ed3",
        "colab": {
          "base_uri": "https://localhost:8080/"
        }
      },
      "execution_count": 146,
      "outputs": [
        {
          "output_type": "execute_result",
          "data": {
            "text/plain": [
              "1"
            ]
          },
          "metadata": {},
          "execution_count": 146
        }
      ]
    },
    {
      "cell_type": "code",
      "source": [
        "Expr"
      ],
      "metadata": {
        "id": "vbxjXk9DgVQ0",
        "outputId": "32e980bb-002f-438c-f28b-3cb2ff4b73f3",
        "colab": {
          "base_uri": "https://localhost:8080/"
        }
      },
      "execution_count": 160,
      "outputs": [
        {
          "output_type": "execute_result",
          "data": {
            "text/plain": [
              "type"
            ]
          },
          "metadata": {},
          "execution_count": 160
        }
      ]
    },
    {
      "cell_type": "code",
      "source": [
        "isinstance(I[1]*I[0]+I[2]**2, Expr)"
      ],
      "metadata": {
        "id": "8qM_IjB2iJjY",
        "outputId": "6c60422d-91ec-434c-f22a-53fccebc32e2",
        "colab": {
          "base_uri": "https://localhost:8080/"
        }
      },
      "execution_count": 159,
      "outputs": [
        {
          "output_type": "execute_result",
          "data": {
            "text/plain": [
              "True"
            ]
          },
          "metadata": {},
          "execution_count": 159
        }
      ]
    },
    {
      "cell_type": "code",
      "source": [],
      "metadata": {
        "id": "_4iiSp2miM6_"
      },
      "execution_count": null,
      "outputs": []
    }
  ],
  "metadata": {
    "colab": {
      "provenance": []
    },
    "kernelspec": {
      "display_name": "Julia 1.11.1",
      "name": "julia-1.11"
    }
  },
  "nbformat": 4,
  "nbformat_minor": 0
}