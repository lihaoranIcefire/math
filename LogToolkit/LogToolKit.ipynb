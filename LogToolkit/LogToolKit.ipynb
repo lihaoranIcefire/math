{
 "cells": [
  {
   "cell_type": "markdown",
   "metadata": {
    "id": "gpXMhivm09lu"
   },
   "source": [
    "# PolyLogToolkit"
   ]
  },
  {
   "cell_type": "markdown",
   "metadata": {
    "id": "wl6VZ4en09lv"
   },
   "source": [
    "*LogToolkit.py* is a python script implemented to support symbolic computations of multiple polylogarithms, detailed in Haoran Li's dissertation [Hopf Algebra of Multiple Polylogarithms and Its Associated One Forms](https://lihaoranicefire.github.io/math/LogToolKit/HopfAlgebraOfMultiplePolylogarithmsAndItsAssociatedOneForms.pdf)"
   ]
  },
  {
   "cell_type": "code",
   "execution_count": 2,
   "metadata": {
    "id": "YMz1x3eq1RXa"
   },
   "outputs": [],
   "source": [
    "from sympy import *\n",
    "# import LogToolkit as ltk"
   ]
  },
  {
   "cell_type": "code",
   "execution_count": null,
   "metadata": {
    "vscode": {
     "languageId": "cpp"
    }
   },
   "outputs": [],
   "source": [
    "for(int i = 0; i < 1000; i++) {\n",
    "    print(i)\n",
    "}"
   ]
  },
  {
   "cell_type": "code",
   "execution_count": null,
   "metadata": {
    "id": "d6O7DLe11VLv"
   },
   "outputs": [],
   "source": [
    "from sympy import symbols, Add, Mul\n",
    "\n",
    "# Define a simple class for the wedge product\n",
    "class WedgeProduct:\n",
    "    def __init__(self, *components):\n",
    "        self.components = tuple(components)\n",
    "\n",
    "    def __repr__(self):\n",
    "        return f\"WedgeProduct{self.components}\"\n",
    "\n",
    "    @staticmethod\n",
    "    def wedge(*args):\n",
    "        # Case 1: Single input (like Length[{a}] === 1 in Mathematica)\n",
    "        if len(args) == 1:\n",
    "            return args[0]\n",
    "\n",
    "        # Case 2: Handle sum (S_Plus in Mathematica)\n",
    "        if isinstance(args[1], Add):\n",
    "            return sum(WedgeProduct.wedge(*[arg]) for arg in args[1].args)\n",
    "\n",
    "        # Case 3: Handle zero case (0)\n",
    "        if any(arg == 0 for arg in args):\n",
    "            return 0\n",
    "\n",
    "        # Case 4: Handle multiplication of terms (Times[b___, s_, c___] in Mathematica)\n",
    "        if isinstance(args[1], Mul):\n",
    "            # Assume the second argument is a product\n",
    "            first_term = args[1].args[0]\n",
    "            return first_term * WedgeProduct.wedge(*args[1].args[1:])\n",
    "\n",
    "        # Handle generic case for wedge product\n",
    "        return WedgeProduct(*args)\n",
    "\n",
    "\n",
    "# Testing the implementation\n",
    "\n",
    "# Case 1: Single input (returns the input as is)\n",
    "v1 = WedgeProduct(1, 2, 3)\n",
    "result_1 = WedgeProduct.wedge(v1)\n",
    "print(result_1)  # Expected: WedgeProduct(1, 2, 3)\n",
    "\n",
    "# Case 2: Sum case (S_Plus)\n",
    "v2 = WedgeProduct(1, 2)\n",
    "v3 = WedgeProduct(3, 4)\n",
    "result_2 = WedgeProduct.wedge(v2 + v3)\n",
    "print(result_2)  # Expected: WedgeProduct(1, 2) + WedgeProduct(3, 4)\n",
    "\n",
    "# Case 3: Zero case (0)\n",
    "result_3 = WedgeProduct.wedge(v1 + 0)\n",
    "print(result_3)  # Expected: 0\n",
    "\n",
    "# Case 4: Product case (Times[b___, s_, c___])\n",
    "result_4 = WedgeProduct.wedge(2 * v1 + 3 * v2)\n",
    "print(result_4)  # Expected: 2 * WedgeProduct(1, 2, 3) + 3 * WedgeProduct(1, 2)"
   ]
  }
 ],
 "metadata": {
  "colab": {
   "provenance": []
  },
  "kernelspec": {
   "display_name": "Python 3",
   "name": "python3"
  },
  "language_info": {
   "name": "python"
  }
 },
 "nbformat": 4,
 "nbformat_minor": 0
}
