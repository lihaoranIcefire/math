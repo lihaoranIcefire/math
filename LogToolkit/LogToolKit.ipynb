{
  "cells": [
    {
      "cell_type": "markdown",
      "metadata": {
        "id": "gpXMhivm09lu"
      },
      "source": [
        "# PolyLogToolkit"
      ]
    },
    {
      "cell_type": "markdown",
      "metadata": {
        "id": "wl6VZ4en09lv"
      },
      "source": [
        "*LogToolkit* is a script implemented to support symbolic computations of multiple polylogarithms, detailed in Haoran Li's dissertation [Hopf Algebra of Multiple Polylogarithms and Its Associated One Forms](https://lihaoranicefire.github.io/math/LogToolKit/HopfAlgebraOfMultiplePolylogarithmsAndItsAssociatedOneForms.pdf)"
      ]
    },
    {
      "cell_type": "markdown",
      "source": [
        "## Implementation"
      ],
      "metadata": {
        "id": "E1_GMGWPA7V4"
      }
    },
    {
      "cell_type": "code",
      "source": [
        "import itertools\n",
        "from sympy import *\n",
        "\n",
        "# Reserve some symbol heads\n",
        "II = IndexedBase('II')\n",
        "Li = IndexedBase('Li')\n",
        "du = IndexedBase('du')\n",
        "dv = IndexedBase('dv')"
      ],
      "metadata": {
        "id": "qiJsOGNxc4bp"
      },
      "execution_count": 2,
      "outputs": []
    },
    {
      "cell_type": "markdown",
      "metadata": {
        "id": "Q8hdb9M2IfVN"
      },
      "source": [
        "#### $\\mathbb I^{\\text{Symb}}$\n",
        "\n",
        "$$\n",
        "I(a_{i_0}; 0^{n_0-1}, a_{i_1}, 0^{n_1-1}, \\cdots, a_{i_m}, 0^{n_m-1}; a_{i_{m+1}})\\leftrightsquigarrow (i_0, n_0, i_1, n_1, \\cdots, i_m, n_m, i_{m+1})\n",
        "$$\n",
        "\n",
        "for example, in depth $2$, $I(a_0; 0^{1-1}, a_1, 0^{3-1}, a_2, 0^{2-1}; a_3)\\leftrightsquigarrow(0,1,1,3,2,2,2)$"
      ]
    },
    {
      "cell_type": "code",
      "execution_count": 32,
      "metadata": {
        "id": "rpEzBFEHWeLP"
      },
      "outputs": [],
      "source": [
        "class ISymb(Indexed):\n",
        "    def __new__(cls, *args):\n",
        "        return super().__new__(cls, II, *args)\n",
        "    def __init__(self, *args):\n",
        "        # self.args start with II\n",
        "        self.m = len(self.args) // 2 - 2\n",
        "        self.i = self.args[1::2]\n",
        "        self.n = self.args[2::2]\n",
        "    def __lt__(self, other):\n",
        "        pass\n",
        "    def __repr__(self):\n",
        "        return f'II{self.args[1:]}'"
      ]
    },
    {
      "cell_type": "markdown",
      "source": [
        "#### $\\mathbb H^{\\text{Symb}}$\n",
        "\n",
        "$$\n",
        "[x_{i_1\\to i_2},\\cdots,x_{i_d\\to i_{d+1}}]_{n_1,\\cdots,n_d}\\leftrightsquigarrow(i_1,n_1,i_2-i_1,\\cdots,i_d-i_{d-1},n_d,i_{d+1}-i_d)\n",
        "$$\n",
        "\n",
        "Or $(m_1,n_1,\\cdots,m_d,n_d,m_{d+1})$ so that $i_r = m_1 + \\cdots + m_r$\n",
        "\n",
        "The $\\partial_{r}$ of $(m_1,n_1,\\cdots,m_d,n_d,m_{d+1})$ is\n",
        "- if $d == 1$ and $n_1 == 1$: $-dv_{i_1,i_2-1}$\n",
        "- else if $n_r>1$ or $d=1$: $(\\cdots,n_r-1,\\cdots) du_{i_r, i_{r+1}-1}$\n",
        "- else if $r=d$: $-(\\cdots,n_{d-1},m_d+1+m_{d+1}) dv_{i_d,i_{d+1}-1}$\n",
        "- else: $-(\\cdots,m_{r}+1+m_{r+1},n_{r+1},\\cdots) dv_{i_r, i_{r+1}-1} + (\\cdots,m_r,n_{r+1},m_{r+1}+1+m_{r+2},\\cdots) (du_{i_r, i_{r+1}-1} - dv_{i_r, i_{r+1}-1})$"
      ],
      "metadata": {
        "id": "McTQ96DfmI5r"
      }
    },
    {
      "cell_type": "code",
      "source": [
        "class HSymb(Indexed):\n",
        "    def __new__(cls, *args):\n",
        "        return super().__new__(cls, Li, *args)\n",
        "    def __init__(self, *args):\n",
        "        # self.args start with Li\n",
        "        self.d = len(args) // 2\n",
        "        self.m = (0, *args[::2])\n",
        "        self.n = (0, *args[1::2])\n",
        "        self.i = list(itertools.accumulate(self.m))\n",
        "    def __lt__(self, other):\n",
        "        pass\n",
        "    def __repr__(self):\n",
        "        return f'Li{self.args[1:]}'\n",
        "    def partial_differential(self, r):\n",
        "        '''\n",
        "        Take the partial_r of a polylogarithm\n",
        "        '''\n",
        "        if self.d == 1 and self.n[1] == 1:\n",
        "            return -dv[self.i[1], self.i[2] - 1]\n",
        "        if self.n[r] > 1 or self.d == 1:\n",
        "            return HSymb(*self.args[1:2*r-1], self.n[r] - 1, *self.args[2*r+1:]) * du[self.i[r], self.i[r+1] - 1]\n",
        "        elif r == self.d:\n",
        "            return -HSymb(*self.args[1:-3], self.m[r] + 1 + self.m[r+1]) * dv[self.i[r], self.i[r+1] - 1]\n",
        "        else:\n",
        "            return -HSymb(*self.args[1:2*(r-1)], self.m[r] + 1 + self.m[r+1], *self.args[2*(r+1):]) * dv[self.i[r], self.i[r+1] - 1] +\\\n",
        "                    HSymb(*self.args[1:2*r-1], self.n[r+1], self.m[r+1] + 1 + self.m[r+2], *self.args[2*(r+2):]) *\\\n",
        "                    (du[self.i[r], self.i[r+1] - 1] - dv[self.i[r], self.i[r+1] - 1])\n",
        "    def differential(self):\n",
        "        '''\n",
        "        Take the differential of a polylogarithm\n",
        "        '''\n",
        "        return sum(self.partial_differential(r) for r in range(1, self.d + 1))"
      ],
      "metadata": {
        "id": "kghmUR52ntg-"
      },
      "execution_count": 33,
      "outputs": []
    },
    {
      "cell_type": "markdown",
      "metadata": {
        "id": "6wWFAdJaaxAT"
      },
      "source": [
        "#### Differential\n",
        "\n",
        "encodings rendered by successive partial derivatives. The $\\partial_{r}$-terms of $(m_1,n_1,\\cdots,m_d,n_d,m_{d+1})$ include\n",
        "- if $n_r>1$ or $d=1$: $(\\cdots,n_r-1,\\cdots)$\n",
        "- else if $r=d$: $(\\cdots,n_{d-1},m_d+1+m_{d+1})$\n",
        "- else: $(\\cdots,m_{r}+1+m_{r+1},n_{r+1},\\cdots)$ and $(\\cdots,m_r,n_{r+1},m_{r+1}+1+m_{r+2},\\cdots)$"
      ]
    },
    {
      "cell_type": "code",
      "source": [
        "def differential(expr):\n",
        "    '''\n",
        "    Take the differential of an element in HSymb\n",
        "    '''\n",
        "    if expr.is_Add:\n",
        "        return sum(differential(arg) for arg in expr.args)\n",
        "    elif expr.is_Mul:\n",
        "        return sum(expr / arg * differential(arg) for arg in expr.args if not arg.is_number)\n",
        "    elif expr.is_Pow:\n",
        "        return expr.args[1] * expr.args[0] ** (expr.args[1] - 1) * differential(expr.args[0])\n",
        "    elif expr.is_number:\n",
        "        return 0\n",
        "    elif isinstance(expr, HSymb):\n",
        "        return expr.differential()"
      ],
      "metadata": {
        "id": "iO6Pvve80WzG"
      },
      "execution_count": 5,
      "outputs": []
    },
    {
      "cell_type": "markdown",
      "metadata": {
        "id": "3OMcT03_axAT"
      },
      "source": [
        "#### Tensor"
      ]
    },
    {
      "cell_type": "markdown",
      "source": [
        "$$\n",
        "\\left(\\sum_{i_1}c_{i_i}^{(1)}t_{i_1}^{(1)}\\right)\\otimes\\cdots\\otimes\\left(\\sum_{i_N}c_{i_N}^{(N)}t_{i_N}^{(N)}\\right)=\\sum_{i_1,\\cdots,i_N}c_{i_i}^{(1)}\\cdots c_{i_N}^{(N)} t_{i_1}^{(1)}\\otimes\\cdots\\otimes t_{i_N}^{(N)}\n",
        "$$\n",
        "\n",
        "$$\n",
        "\\left(\\sum_{\\mathbf i}c_{\\mathbf i}^{(1)}t_{i_1}^{(1)}\\otimes\\cdots\\otimes t_{i_N}^{(1)}\\right)\\left(\\sum_{\\mathbf j}c_{\\mathbf j}^{(2)}t_{j_1}^{(2)}\\otimes\\cdots\\otimes t_{j_N}^{(2)}\\right)=\\sum_{i_1,\\cdots,i_N,j_1,\\cdots,j_N}c_{\\mathbf i}^{(1)}c_{\\mathbf j}^{(2)}\\left(t_{i_1}^{(1)}t_{j_1}^{(2)}\\right)\\otimes\\cdots\\otimes\\left(t_{i_N}^{(1)}t_{j_N}^{(2)}\\right)\n",
        "$$"
      ],
      "metadata": {
        "id": "pcUIqh-62ZyH"
      }
    },
    {
      "cell_type": "code",
      "source": [
        "class tensor():\n",
        "    def __init__(self, *args):\n",
        "        self.is_number = False\n",
        "        # Giving coefficients and terms already\n",
        "        if len(args) == 2 and all(isinstance(arg, (list, tuple)) for arg in args):\n",
        "            self.c, self.t = args\n",
        "        # Giving the arguments of a single raw tensor\n",
        "        else:\n",
        "            # expand the args first\n",
        "            args = [expand(arg) for arg in args]\n",
        "\n",
        "            self.c, self.t = [], []\n",
        "            for comp in list(itertools.product(*map(tensor._split_coef, args))):\n",
        "                c, t = zip(*comp)\n",
        "                self.c.append(prod(c))\n",
        "                self.t.append(t)\n",
        "\n",
        "    @staticmethod\n",
        "    def _split_coef(expr):\n",
        "        if expr.is_Add:\n",
        "            return [tensor._split_coef(arg)[0] for arg in expr.args]\n",
        "        elif expr.is_number:\n",
        "            return [[expr, 1]]\n",
        "        elif expr.is_Mul:\n",
        "            coef = prod(arg for arg in expr.args if arg.is_number)\n",
        "            return [[coef, expr / coef]]\n",
        "        else:\n",
        "            return [[1, expr]]\n",
        "\n",
        "    def __add__(self, other):\n",
        "        return tensor(self.c + other.c, self.t + other.t)\n",
        "    def __neg__(self):\n",
        "        return tensor(list(map(lambda x: -x, self.c)), self.t)\n",
        "    def __sub__(self, other):\n",
        "        return self + (-other)\n",
        "\n",
        "    @staticmethod\n",
        "    def _mul(t1, t2):\n",
        "        if not isinstance(t1, (list, tuple)) or not isinstance(t2, (list, tuple)):\n",
        "            raise ValueError('Must be a list or a tuple')\n",
        "        if len(t1) != len(t2):\n",
        "            raise ValueError('Dimension Mismatch')\n",
        "        return tuple(map(prod, zip(t1, t2)))\n",
        "    def __rmul__(self, other):\n",
        "        # Scalar multiplication (scalar on the left side)\n",
        "        if isinstance(other, (int, float)) or other.is_number:\n",
        "            return tensor([c * other for c in self.c], self.t)\n",
        "        return self * other\n",
        "    def __mul__(self, other):\n",
        "        if isinstance(other, (int, float)) or other.is_number:\n",
        "            return tensor([c * other for c in self.c], self.t)\n",
        "        return tensor(list(map(prod, itertools.product(self.c, other.c))),\n",
        "                      [tensor._mul(t1, t2) for t1, t2 in itertools.product(self.t, other.t)])\n",
        "    def __repr__(self):\n",
        "        ct = []\n",
        "        for c, t in zip(self.c, self.t):\n",
        "            if c == 1:\n",
        "                ct.append(f\"{t}\")\n",
        "            elif c == -1:\n",
        "                ct.append(f\"-{t}\")\n",
        "            else:\n",
        "                ct.append(f\"{c}*{t}\")\n",
        "\n",
        "        return ' + '.join(ct)"
      ],
      "metadata": {
        "id": "l8u8T1TBuXn9"
      },
      "execution_count": 100,
      "outputs": []
    },
    {
      "cell_type": "code",
      "source": [
        "tensor(ISymb(1), ISymb(2,3)) * tensor(2 * ISymb(4), ISymb(1))"
      ],
      "metadata": {
        "colab": {
          "base_uri": "https://localhost:8080/"
        },
        "id": "aXa07_arZmb0",
        "outputId": "c9154e65-32b0-40fb-e4a2-77b36a37ee64"
      },
      "execution_count": 101,
      "outputs": [
        {
          "output_type": "execute_result",
          "data": {
            "text/plain": [
              "2*(II[1]*II[4], II[1]*II[2, 3])"
            ]
          },
          "metadata": {},
          "execution_count": 101
        }
      ]
    },
    {
      "cell_type": "code",
      "source": [
        "tensor(2 * ISymb(4), 2 * ISymb(1), I * ISymb(3))"
      ],
      "metadata": {
        "colab": {
          "base_uri": "https://localhost:8080/"
        },
        "id": "HWIaker5vGDd",
        "outputId": "4f1366e2-64dc-4a7c-e42c-412b527193cb"
      },
      "execution_count": 96,
      "outputs": [
        {
          "output_type": "execute_result",
          "data": {
            "text/plain": [
              "4*I*(II(4,), II(1,), II(3,))"
            ]
          },
          "metadata": {},
          "execution_count": 96
        }
      ]
    },
    {
      "cell_type": "code",
      "source": [
        "tensor(2 * ISymb(4), 2 * ISymb(1)) + tensor(I * ISymb(3))"
      ],
      "metadata": {
        "colab": {
          "base_uri": "https://localhost:8080/"
        },
        "id": "5lGCRYscx2ES",
        "outputId": "0c4aedd8-21cf-42fa-ab14-17612e873aa0"
      },
      "execution_count": 95,
      "outputs": [
        {
          "output_type": "execute_result",
          "data": {
            "text/plain": [
              "4*(II(4,), II(1,)) + I*(II(3,),)"
            ]
          },
          "metadata": {},
          "execution_count": 95
        }
      ]
    },
    {
      "cell_type": "code",
      "source": [
        "-2* tensor(2 * ISymb(4), 2 * ISymb(1))"
      ],
      "metadata": {
        "colab": {
          "base_uri": "https://localhost:8080/"
        },
        "id": "Xdzy-J8f0yaj",
        "outputId": "6896eae0-a099-474e-b6d9-d5b533809ec3"
      },
      "execution_count": 93,
      "outputs": [
        {
          "output_type": "execute_result",
          "data": {
            "text/plain": [
              "-8*(II(4,), II(1,))"
            ]
          },
          "metadata": {},
          "execution_count": 93
        }
      ]
    },
    {
      "cell_type": "code",
      "source": [
        "tensor(ISymb(1), ISymb(2,3)) + tensor(2 * ISymb(4), ISymb(1))"
      ],
      "metadata": {
        "colab": {
          "base_uri": "https://localhost:8080/"
        },
        "id": "cClHnjl6tSI7",
        "outputId": "96b5f8b8-dab8-4766-ad0b-f2b8af167bab"
      },
      "execution_count": 94,
      "outputs": [
        {
          "output_type": "execute_result",
          "data": {
            "text/plain": [
              "(II(1,), II(2, 3)) + 2*(II(4,), II(1,))"
            ]
          },
          "metadata": {},
          "execution_count": 94
        }
      ]
    },
    {
      "cell_type": "markdown",
      "metadata": {
        "id": "nUfPAfzDaxAT"
      },
      "source": [
        "#### Wedge"
      ]
    },
    {
      "cell_type": "code",
      "source": [
        "class wedge:\n",
        "    def __init__(self, *comp):\n",
        "        self.comp = comp\n",
        "    def __repr__(self):\n",
        "        return f'{self.comp}'\n",
        "    def expand(self):\n",
        "        pass"
      ],
      "metadata": {
        "id": "Qz5xTBTmztKu"
      },
      "execution_count": null,
      "outputs": []
    },
    {
      "cell_type": "code",
      "source": [
        "type((ISymb(1,2,3).args)[0])"
      ],
      "metadata": {
        "id": "KJ05QXQSm-vz",
        "outputId": "a4e31a28-78ba-4472-9dc9-80cbb2a315c2",
        "colab": {
          "base_uri": "https://localhost:8080/"
        }
      },
      "execution_count": 81,
      "outputs": [
        {
          "output_type": "execute_result",
          "data": {
            "text/plain": [
              "sympy.tensor.indexed.IndexedBase"
            ]
          },
          "metadata": {},
          "execution_count": 81
        }
      ]
    },
    {
      "cell_type": "code",
      "source": [
        "simplify(ISymb(1) * ISymb(2) + 2 * ISymb(2,3,4) ** 2).args"
      ],
      "metadata": {
        "id": "sAtneKcAkYp6",
        "outputId": "1b0736ef-23a4-4f7c-b600-c8433e72ae2a",
        "colab": {
          "base_uri": "https://localhost:8080/"
        }
      },
      "execution_count": 46,
      "outputs": [
        {
          "output_type": "execute_result",
          "data": {
            "text/plain": [
              "(2*II[2, 3, 4]**2, II[1]*II[2])"
            ]
          },
          "metadata": {},
          "execution_count": 46
        }
      ]
    },
    {
      "cell_type": "code",
      "source": [
        "type(simplify(ISymb(1) * (2*I)).args[-1])"
      ],
      "metadata": {
        "id": "mshiHHbodPXW",
        "outputId": "aaa1d3a8-3de8-476a-bba9-a717581fd94b",
        "colab": {
          "base_uri": "https://localhost:8080/"
        }
      },
      "execution_count": 64,
      "outputs": [
        {
          "output_type": "execute_result",
          "data": {
            "text/plain": [
              "sympy.tensor.indexed.Indexed"
            ]
          },
          "metadata": {},
          "execution_count": 64
        }
      ]
    },
    {
      "cell_type": "code",
      "source": [
        "HSymb(1,1,1)"
      ],
      "metadata": {
        "colab": {
          "base_uri": "https://localhost:8080/",
          "height": 141
        },
        "id": "EL6bsJzhySO8",
        "outputId": "e7fb36c5-0800-4145-9362-abfd41890f47"
      },
      "execution_count": 124,
      "outputs": [
        {
          "output_type": "error",
          "ename": "TypeError",
          "evalue": "HSymb.__init__() takes 1 positional argument but 4 were given",
          "traceback": [
            "\u001b[0;31m---------------------------------------------------------------------------\u001b[0m",
            "\u001b[0;31mTypeError\u001b[0m                                 Traceback (most recent call last)",
            "\u001b[0;32m<ipython-input-124-49d98bef0950>\u001b[0m in \u001b[0;36m<cell line: 1>\u001b[0;34m()\u001b[0m\n\u001b[0;32m----> 1\u001b[0;31m \u001b[0mHSymb\u001b[0m\u001b[0;34m(\u001b[0m\u001b[0;36m1\u001b[0m\u001b[0;34m,\u001b[0m\u001b[0;36m1\u001b[0m\u001b[0;34m,\u001b[0m\u001b[0;36m1\u001b[0m\u001b[0;34m)\u001b[0m\u001b[0;34m\u001b[0m\u001b[0;34m\u001b[0m\u001b[0m\n\u001b[0m",
            "\u001b[0;31mTypeError\u001b[0m: HSymb.__init__() takes 1 positional argument but 4 were given"
          ]
        }
      ]
    },
    {
      "cell_type": "code",
      "source": [
        "differential(2 * I * HSymb(1,1,1))"
      ],
      "metadata": {
        "colab": {
          "base_uri": "https://localhost:8080/",
          "height": 287
        },
        "id": "wxmsEKY_3RSe",
        "outputId": "5ead3fd3-e2a0-43e3-8a08-5edc54e86621"
      },
      "execution_count": 191,
      "outputs": [
        {
          "output_type": "error",
          "ename": "SympifyError",
          "evalue": "SympifyError: \"cannot sympify object of type <class 'generator'>\"",
          "traceback": [
            "\u001b[0;31m---------------------------------------------------------------------------\u001b[0m",
            "\u001b[0;31mSympifyError\u001b[0m                              Traceback (most recent call last)",
            "\u001b[0;32m<ipython-input-191-7b37a1c32a6c>\u001b[0m in \u001b[0;36m<cell line: 1>\u001b[0;34m()\u001b[0m\n\u001b[0;32m----> 1\u001b[0;31m \u001b[0mdifferential\u001b[0m\u001b[0;34m(\u001b[0m\u001b[0;36m2\u001b[0m \u001b[0;34m*\u001b[0m \u001b[0mI\u001b[0m \u001b[0;34m*\u001b[0m \u001b[0mHSymb\u001b[0m\u001b[0;34m(\u001b[0m\u001b[0;36m1\u001b[0m\u001b[0;34m,\u001b[0m\u001b[0;36m1\u001b[0m\u001b[0;34m,\u001b[0m\u001b[0;36m1\u001b[0m\u001b[0;34m)\u001b[0m\u001b[0;34m)\u001b[0m\u001b[0;34m\u001b[0m\u001b[0;34m\u001b[0m\u001b[0m\n\u001b[0m",
            "\u001b[0;32m<ipython-input-188-78135ec5a80a>\u001b[0m in \u001b[0;36mdifferential\u001b[0;34m(expr)\u001b[0m\n\u001b[1;32m      6\u001b[0m         \u001b[0;32mreturn\u001b[0m \u001b[0msum\u001b[0m\u001b[0;34m(\u001b[0m\u001b[0mdifferential\u001b[0m\u001b[0;34m(\u001b[0m\u001b[0marg\u001b[0m\u001b[0;34m)\u001b[0m \u001b[0;32mfor\u001b[0m \u001b[0marg\u001b[0m \u001b[0;32min\u001b[0m \u001b[0mexpr\u001b[0m\u001b[0;34m.\u001b[0m\u001b[0margs\u001b[0m\u001b[0;34m)\u001b[0m\u001b[0;34m\u001b[0m\u001b[0;34m\u001b[0m\u001b[0m\n\u001b[1;32m      7\u001b[0m     \u001b[0;32melif\u001b[0m \u001b[0mexpr\u001b[0m\u001b[0;34m.\u001b[0m\u001b[0mis_Mul\u001b[0m\u001b[0;34m:\u001b[0m\u001b[0;34m\u001b[0m\u001b[0;34m\u001b[0m\u001b[0m\n\u001b[0;32m----> 8\u001b[0;31m         \u001b[0;32mreturn\u001b[0m \u001b[0mproduct\u001b[0m\u001b[0;34m(\u001b[0m\u001b[0mexpr\u001b[0m \u001b[0;34m/\u001b[0m \u001b[0marg\u001b[0m \u001b[0;34m*\u001b[0m \u001b[0mdifferential\u001b[0m\u001b[0;34m(\u001b[0m\u001b[0marg\u001b[0m\u001b[0;34m)\u001b[0m \u001b[0;32mfor\u001b[0m \u001b[0marg\u001b[0m \u001b[0;32min\u001b[0m \u001b[0mexpr\u001b[0m\u001b[0;34m.\u001b[0m\u001b[0margs\u001b[0m \u001b[0;32mif\u001b[0m \u001b[0;32mnot\u001b[0m \u001b[0marg\u001b[0m\u001b[0;34m.\u001b[0m\u001b[0mis_number\u001b[0m\u001b[0;34m)\u001b[0m\u001b[0;34m\u001b[0m\u001b[0;34m\u001b[0m\u001b[0m\n\u001b[0m\u001b[1;32m      9\u001b[0m     \u001b[0;32melif\u001b[0m \u001b[0mexpr\u001b[0m\u001b[0;34m.\u001b[0m\u001b[0mis_Pow\u001b[0m\u001b[0;34m:\u001b[0m\u001b[0;34m\u001b[0m\u001b[0;34m\u001b[0m\u001b[0m\n\u001b[1;32m     10\u001b[0m         \u001b[0;32mreturn\u001b[0m \u001b[0mexpr\u001b[0m\u001b[0;34m.\u001b[0m\u001b[0margs\u001b[0m\u001b[0;34m[\u001b[0m\u001b[0;36m1\u001b[0m\u001b[0;34m]\u001b[0m \u001b[0;34m*\u001b[0m \u001b[0mexpr\u001b[0m\u001b[0;34m.\u001b[0m\u001b[0margs\u001b[0m\u001b[0;34m[\u001b[0m\u001b[0;36m0\u001b[0m\u001b[0;34m]\u001b[0m \u001b[0;34m**\u001b[0m \u001b[0;34m(\u001b[0m\u001b[0mexpr\u001b[0m\u001b[0;34m.\u001b[0m\u001b[0margs\u001b[0m\u001b[0;34m[\u001b[0m\u001b[0;36m1\u001b[0m\u001b[0;34m]\u001b[0m \u001b[0;34m-\u001b[0m \u001b[0;36m1\u001b[0m\u001b[0;34m)\u001b[0m \u001b[0;34m*\u001b[0m \u001b[0mdifferential\u001b[0m\u001b[0;34m(\u001b[0m\u001b[0mexpr\u001b[0m\u001b[0;34m.\u001b[0m\u001b[0margs\u001b[0m\u001b[0;34m[\u001b[0m\u001b[0;36m0\u001b[0m\u001b[0;34m]\u001b[0m\u001b[0;34m)\u001b[0m\u001b[0;34m\u001b[0m\u001b[0;34m\u001b[0m\u001b[0m\n",
            "\u001b[0;32m/usr/local/lib/python3.10/dist-packages/sympy/concrete/products.py\u001b[0m in \u001b[0;36mproduct\u001b[0;34m(*args, **kwargs)\u001b[0m\n\u001b[1;32m    603\u001b[0m     \"\"\"\n\u001b[1;32m    604\u001b[0m \u001b[0;34m\u001b[0m\u001b[0m\n\u001b[0;32m--> 605\u001b[0;31m     \u001b[0mprod\u001b[0m \u001b[0;34m=\u001b[0m \u001b[0mProduct\u001b[0m\u001b[0;34m(\u001b[0m\u001b[0;34m*\u001b[0m\u001b[0margs\u001b[0m\u001b[0;34m,\u001b[0m \u001b[0;34m**\u001b[0m\u001b[0mkwargs\u001b[0m\u001b[0;34m)\u001b[0m\u001b[0;34m\u001b[0m\u001b[0;34m\u001b[0m\u001b[0m\n\u001b[0m\u001b[1;32m    606\u001b[0m \u001b[0;34m\u001b[0m\u001b[0m\n\u001b[1;32m    607\u001b[0m     \u001b[0;32mif\u001b[0m \u001b[0misinstance\u001b[0m\u001b[0;34m(\u001b[0m\u001b[0mprod\u001b[0m\u001b[0;34m,\u001b[0m \u001b[0mProduct\u001b[0m\u001b[0;34m)\u001b[0m\u001b[0;34m:\u001b[0m\u001b[0;34m\u001b[0m\u001b[0;34m\u001b[0m\u001b[0m\n",
            "\u001b[0;32m/usr/local/lib/python3.10/dist-packages/sympy/concrete/products.py\u001b[0m in \u001b[0;36m__new__\u001b[0;34m(cls, function, *symbols, **assumptions)\u001b[0m\n\u001b[1;32m    195\u001b[0m \u001b[0;34m\u001b[0m\u001b[0m\n\u001b[1;32m    196\u001b[0m     \u001b[0;32mdef\u001b[0m \u001b[0m__new__\u001b[0m\u001b[0;34m(\u001b[0m\u001b[0mcls\u001b[0m\u001b[0;34m,\u001b[0m \u001b[0mfunction\u001b[0m\u001b[0;34m,\u001b[0m \u001b[0;34m*\u001b[0m\u001b[0msymbols\u001b[0m\u001b[0;34m,\u001b[0m \u001b[0;34m**\u001b[0m\u001b[0massumptions\u001b[0m\u001b[0;34m)\u001b[0m\u001b[0;34m:\u001b[0m\u001b[0;34m\u001b[0m\u001b[0;34m\u001b[0m\u001b[0m\n\u001b[0;32m--> 197\u001b[0;31m         \u001b[0mobj\u001b[0m \u001b[0;34m=\u001b[0m \u001b[0mExprWithIntLimits\u001b[0m\u001b[0;34m.\u001b[0m\u001b[0m__new__\u001b[0m\u001b[0;34m(\u001b[0m\u001b[0mcls\u001b[0m\u001b[0;34m,\u001b[0m \u001b[0mfunction\u001b[0m\u001b[0;34m,\u001b[0m \u001b[0;34m*\u001b[0m\u001b[0msymbols\u001b[0m\u001b[0;34m,\u001b[0m \u001b[0;34m**\u001b[0m\u001b[0massumptions\u001b[0m\u001b[0;34m)\u001b[0m\u001b[0;34m\u001b[0m\u001b[0;34m\u001b[0m\u001b[0m\n\u001b[0m\u001b[1;32m    198\u001b[0m         \u001b[0;32mreturn\u001b[0m \u001b[0mobj\u001b[0m\u001b[0;34m\u001b[0m\u001b[0;34m\u001b[0m\u001b[0m\n\u001b[1;32m    199\u001b[0m \u001b[0;34m\u001b[0m\u001b[0m\n",
            "\u001b[0;32m/usr/local/lib/python3.10/dist-packages/sympy/concrete/expr_with_limits.py\u001b[0m in \u001b[0;36m__new__\u001b[0;34m(cls, function, *symbols, **assumptions)\u001b[0m\n\u001b[1;32m    202\u001b[0m     \u001b[0;32mdef\u001b[0m \u001b[0m__new__\u001b[0m\u001b[0;34m(\u001b[0m\u001b[0mcls\u001b[0m\u001b[0;34m,\u001b[0m \u001b[0mfunction\u001b[0m\u001b[0;34m,\u001b[0m \u001b[0;34m*\u001b[0m\u001b[0msymbols\u001b[0m\u001b[0;34m,\u001b[0m \u001b[0;34m**\u001b[0m\u001b[0massumptions\u001b[0m\u001b[0;34m)\u001b[0m\u001b[0;34m:\u001b[0m\u001b[0;34m\u001b[0m\u001b[0;34m\u001b[0m\u001b[0m\n\u001b[1;32m    203\u001b[0m         \u001b[0;32mfrom\u001b[0m \u001b[0msympy\u001b[0m\u001b[0;34m.\u001b[0m\u001b[0mconcrete\u001b[0m\u001b[0;34m.\u001b[0m\u001b[0mproducts\u001b[0m \u001b[0;32mimport\u001b[0m \u001b[0mProduct\u001b[0m\u001b[0;34m\u001b[0m\u001b[0;34m\u001b[0m\u001b[0m\n\u001b[0;32m--> 204\u001b[0;31m         pre = _common_new(cls, function, *symbols,\n\u001b[0m\u001b[1;32m    205\u001b[0m             discrete=issubclass(cls, Product), **assumptions)\n\u001b[1;32m    206\u001b[0m         \u001b[0;32mif\u001b[0m \u001b[0misinstance\u001b[0m\u001b[0;34m(\u001b[0m\u001b[0mpre\u001b[0m\u001b[0;34m,\u001b[0m \u001b[0mtuple\u001b[0m\u001b[0;34m)\u001b[0m\u001b[0;34m:\u001b[0m\u001b[0;34m\u001b[0m\u001b[0;34m\u001b[0m\u001b[0m\n",
            "\u001b[0;32m/usr/local/lib/python3.10/dist-packages/sympy/concrete/expr_with_limits.py\u001b[0m in \u001b[0;36m_common_new\u001b[0;34m(cls, function, discrete, *symbols, **assumptions)\u001b[0m\n\u001b[1;32m     24\u001b[0m     \u001b[0;34m(\u001b[0m\u001b[0mfunction\u001b[0m\u001b[0;34m,\u001b[0m \u001b[0mlimits\u001b[0m\u001b[0;34m,\u001b[0m \u001b[0morientation\u001b[0m\u001b[0;34m)\u001b[0m\u001b[0;34m.\u001b[0m \u001b[0mThis\u001b[0m \u001b[0mcode\u001b[0m \u001b[0;32mis\u001b[0m \u001b[0mcommon\u001b[0m \u001b[0mto\u001b[0m\u001b[0;34m\u001b[0m\u001b[0;34m\u001b[0m\u001b[0m\n\u001b[1;32m     25\u001b[0m     both ExprWithLimits and AddWithLimits.\"\"\"\n\u001b[0;32m---> 26\u001b[0;31m     \u001b[0mfunction\u001b[0m \u001b[0;34m=\u001b[0m \u001b[0msympify\u001b[0m\u001b[0;34m(\u001b[0m\u001b[0mfunction\u001b[0m\u001b[0;34m)\u001b[0m\u001b[0;34m\u001b[0m\u001b[0;34m\u001b[0m\u001b[0m\n\u001b[0m\u001b[1;32m     27\u001b[0m \u001b[0;34m\u001b[0m\u001b[0m\n\u001b[1;32m     28\u001b[0m     \u001b[0;32mif\u001b[0m \u001b[0misinstance\u001b[0m\u001b[0;34m(\u001b[0m\u001b[0mfunction\u001b[0m\u001b[0;34m,\u001b[0m \u001b[0mEquality\u001b[0m\u001b[0;34m)\u001b[0m\u001b[0;34m:\u001b[0m\u001b[0;34m\u001b[0m\u001b[0;34m\u001b[0m\u001b[0m\n",
            "\u001b[0;32m/usr/local/lib/python3.10/dist-packages/sympy/core/sympify.py\u001b[0m in \u001b[0;36msympify\u001b[0;34m(a, locals, convert_xor, strict, rational, evaluate)\u001b[0m\n\u001b[1;32m    463\u001b[0m \u001b[0;34m\u001b[0m\u001b[0m\n\u001b[1;32m    464\u001b[0m     \u001b[0;32mif\u001b[0m \u001b[0;32mnot\u001b[0m \u001b[0misinstance\u001b[0m\u001b[0;34m(\u001b[0m\u001b[0ma\u001b[0m\u001b[0;34m,\u001b[0m \u001b[0mstr\u001b[0m\u001b[0;34m)\u001b[0m\u001b[0;34m:\u001b[0m\u001b[0;34m\u001b[0m\u001b[0;34m\u001b[0m\u001b[0m\n\u001b[0;32m--> 465\u001b[0;31m         \u001b[0;32mraise\u001b[0m \u001b[0mSympifyError\u001b[0m\u001b[0;34m(\u001b[0m\u001b[0;34m'cannot sympify object of type %r'\u001b[0m \u001b[0;34m%\u001b[0m \u001b[0mtype\u001b[0m\u001b[0;34m(\u001b[0m\u001b[0ma\u001b[0m\u001b[0;34m)\u001b[0m\u001b[0;34m)\u001b[0m\u001b[0;34m\u001b[0m\u001b[0;34m\u001b[0m\u001b[0m\n\u001b[0m\u001b[1;32m    466\u001b[0m \u001b[0;34m\u001b[0m\u001b[0m\n\u001b[1;32m    467\u001b[0m     from sympy.parsing.sympy_parser import (parse_expr, TokenError,\n",
            "\u001b[0;31mSympifyError\u001b[0m: SympifyError: \"cannot sympify object of type <class 'generator'>\""
          ]
        }
      ]
    },
    {
      "cell_type": "code",
      "source": [
        "(Rational(2, 3) * ISymb(1) * Rational(1, 5)).is_Mul"
      ],
      "metadata": {
        "colab": {
          "base_uri": "https://localhost:8080/"
        },
        "id": "WKuPkNpgrb1z",
        "outputId": "e2f5c649-4eee-41d0-b51e-858f1c741706"
      },
      "execution_count": 68,
      "outputs": [
        {
          "output_type": "execute_result",
          "data": {
            "text/plain": [
              "True"
            ]
          },
          "metadata": {},
          "execution_count": 68
        }
      ]
    },
    {
      "cell_type": "code",
      "source": [
        "tensor(ISymb(1), ISymb(2,3)) * tensor(ISymb(4), ISymb(1))"
      ],
      "metadata": {
        "id": "koVcVRragMRv",
        "outputId": "55456a9c-c028-469a-fb01-6972a2f7aec3",
        "colab": {
          "base_uri": "https://localhost:8080/"
        }
      },
      "execution_count": 44,
      "outputs": [
        {
          "output_type": "execute_result",
          "data": {
            "text/plain": [
              "$[II[1]*II[4], II[1]*II[2, 3]]$"
            ]
          },
          "metadata": {},
          "execution_count": 44
        }
      ]
    },
    {
      "cell_type": "code",
      "source": [
        "(II[1] * II[2]).doit()"
      ],
      "metadata": {
        "id": "6_eq-JdfgDpG",
        "outputId": "72e2134b-3a42-4042-8441-754253f813a3",
        "colab": {
          "base_uri": "https://localhost:8080/",
          "height": 38
        }
      },
      "execution_count": 42,
      "outputs": [
        {
          "output_type": "execute_result",
          "data": {
            "text/plain": [
              "II[1]*II[2]"
            ],
            "text/latex": "$\\displaystyle {II}_{1} {II}_{2}$"
          },
          "metadata": {},
          "execution_count": 42
        }
      ]
    },
    {
      "cell_type": "code",
      "source": [
        "ISymb(IGen(1)) * ISymb(IGen(2)) + ISymb(IGen(2,3,4)) ** 2"
      ],
      "metadata": {
        "id": "iVdNWFn9eE_4",
        "outputId": "98899c1c-fd6b-4e53-d9ab-e31797479d3d",
        "colab": {
          "base_uri": "https://localhost:8080/",
          "height": 38
        }
      },
      "execution_count": null,
      "outputs": [
        {
          "output_type": "execute_result",
          "data": {
            "text/plain": [
              "ISymb(I[1]*I[2] + I[2, 3, 4]**2, I[1], I[2], I[2, 3, 4], domain='QQ')"
            ],
            "text/latex": "$\\displaystyle \\operatorname{ISymb}{\\left( {I}_{1}{I}_{2} + {I}_{2,3,4}^{2}, {I}_{1}, {I}_{2}, {I}_{2,3,4}, domain=\\mathbb{Q} \\right)}$"
          },
          "metadata": {},
          "execution_count": 141
        }
      ]
    },
    {
      "cell_type": "code",
      "source": [
        "(Poly(I[0]*I[1])).degree()"
      ],
      "metadata": {
        "id": "emyt3qGbfZIf",
        "outputId": "4dd978c2-6042-4bf5-bf58-8dd9ee9b7ed3",
        "colab": {
          "base_uri": "https://localhost:8080/"
        }
      },
      "execution_count": null,
      "outputs": [
        {
          "output_type": "execute_result",
          "data": {
            "text/plain": [
              "1"
            ]
          },
          "metadata": {},
          "execution_count": 146
        }
      ]
    },
    {
      "cell_type": "code",
      "source": [
        "Expr"
      ],
      "metadata": {
        "id": "vbxjXk9DgVQ0",
        "outputId": "32e980bb-002f-438c-f28b-3cb2ff4b73f3",
        "colab": {
          "base_uri": "https://localhost:8080/"
        }
      },
      "execution_count": null,
      "outputs": [
        {
          "output_type": "execute_result",
          "data": {
            "text/plain": [
              "type"
            ]
          },
          "metadata": {},
          "execution_count": 160
        }
      ]
    },
    {
      "cell_type": "code",
      "source": [
        "isinstance(I[1]*I[0]+I[2]**2, Expr)"
      ],
      "metadata": {
        "id": "8qM_IjB2iJjY",
        "outputId": "6c60422d-91ec-434c-f22a-53fccebc32e2",
        "colab": {
          "base_uri": "https://localhost:8080/"
        }
      },
      "execution_count": null,
      "outputs": [
        {
          "output_type": "execute_result",
          "data": {
            "text/plain": [
              "True"
            ]
          },
          "metadata": {},
          "execution_count": 159
        }
      ]
    },
    {
      "cell_type": "code",
      "source": [],
      "metadata": {
        "id": "_4iiSp2miM6_"
      },
      "execution_count": null,
      "outputs": []
    }
  ],
  "metadata": {
    "colab": {
      "provenance": []
    },
    "kernelspec": {
      "display_name": "Julia 1.11.1",
      "name": "julia-1.11"
    }
  },
  "nbformat": 4,
  "nbformat_minor": 0
}