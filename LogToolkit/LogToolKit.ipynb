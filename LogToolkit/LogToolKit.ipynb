{
  "cells": [
    {
      "cell_type": "markdown",
      "source": [
        "#### Setup Julia"
      ],
      "metadata": {
        "id": "38h6xfT3CbmA"
      }
    },
    {
      "cell_type": "code",
      "source": [
        "# The Julia bootstrap block\n",
        "# This should be run for the first time to install Julia kernel, and then refresh this page (e.g., Ctrl-R)\n",
        "# so that colab will redirect to the installed Julia kernel\n",
        "# and then doing your own work\n",
        "\n",
        "# 1. install latest Julia using jill.py\n",
        "#    tip: one can install specific Julia version using e.g., `jill install 1.7`\n",
        "!pip install jill && jill install --upstream Official --confirm\n",
        "# 2. install IJulia kernel\n",
        "! julia -e 'using Pkg; Pkg.add(\"IJulia\"); using IJulia; installkernel(\"Julia\")'\n",
        "# 3. hot-fix patch to strip the version suffix of the installed kernel so that this notebook kernelspec is version agnostic\n",
        "!jupyter kernelspec install $(jupyter kernelspec list | grep julia | tr -s ' ' | cut -d' ' -f3) --replace --name julia"
      ],
      "metadata": {
        "collapsed": true,
        "id": "QSWYTbKhBhpl",
        "outputId": "697a95c9-55b6-44a8-ac86-c1d9e8aa9fe2",
        "colab": {
          "base_uri": "https://localhost:8080/"
        }
      },
      "execution_count": 38,
      "outputs": [
        {
          "output_type": "stream",
          "name": "stdout",
          "text": [
            "Requirement already satisfied: jill in /usr/local/lib/python3.10/dist-packages (0.11.5)\n",
            "Requirement already satisfied: fire<0.6.0,>=0.5.0 in /usr/local/lib/python3.10/dist-packages (from jill) (0.5.0)\n",
            "Requirement already satisfied: jsonschema<5.0.0,>=4.17.3 in /usr/local/lib/python3.10/dist-packages (from jill) (4.23.0)\n",
            "Requirement already satisfied: python-gnupg<0.6.0,>=0.5.0 in /usr/local/lib/python3.10/dist-packages (from jill) (0.5.3)\n",
            "Requirement already satisfied: requests<3.0.0,>=2.28.2 in /usr/local/lib/python3.10/dist-packages (from jill) (2.32.3)\n",
            "Requirement already satisfied: requests-futures<2.0.0,>=1.0.0 in /usr/local/lib/python3.10/dist-packages (from jill) (1.0.2)\n",
            "Requirement already satisfied: semantic-version<3.0.0,>=2.10.0 in /usr/local/lib/python3.10/dist-packages (from jill) (2.10.0)\n",
            "Requirement already satisfied: wget<4.0,>=3.2 in /usr/local/lib/python3.10/dist-packages (from jill) (3.2)\n",
            "Requirement already satisfied: six in /usr/local/lib/python3.10/dist-packages (from fire<0.6.0,>=0.5.0->jill) (1.16.0)\n",
            "Requirement already satisfied: termcolor in /usr/local/lib/python3.10/dist-packages (from fire<0.6.0,>=0.5.0->jill) (2.5.0)\n",
            "Requirement already satisfied: attrs>=22.2.0 in /usr/local/lib/python3.10/dist-packages (from jsonschema<5.0.0,>=4.17.3->jill) (24.2.0)\n",
            "Requirement already satisfied: jsonschema-specifications>=2023.03.6 in /usr/local/lib/python3.10/dist-packages (from jsonschema<5.0.0,>=4.17.3->jill) (2024.10.1)\n",
            "Requirement already satisfied: referencing>=0.28.4 in /usr/local/lib/python3.10/dist-packages (from jsonschema<5.0.0,>=4.17.3->jill) (0.35.1)\n",
            "Requirement already satisfied: rpds-py>=0.7.1 in /usr/local/lib/python3.10/dist-packages (from jsonschema<5.0.0,>=4.17.3->jill) (0.21.0)\n",
            "Requirement already satisfied: charset-normalizer<4,>=2 in /usr/local/lib/python3.10/dist-packages (from requests<3.0.0,>=2.28.2->jill) (3.4.0)\n",
            "Requirement already satisfied: idna<4,>=2.5 in /usr/local/lib/python3.10/dist-packages (from requests<3.0.0,>=2.28.2->jill) (3.10)\n",
            "Requirement already satisfied: urllib3<3,>=1.21.1 in /usr/local/lib/python3.10/dist-packages (from requests<3.0.0,>=2.28.2->jill) (2.2.3)\n",
            "Requirement already satisfied: certifi>=2017.4.17 in /usr/local/lib/python3.10/dist-packages (from requests<3.0.0,>=2.28.2->jill) (2024.8.30)\n",
            "\u001b[1mJILL - Julia Installer 4 Linux (MacOS, Windows and FreeBSD) -- Light\u001b[0m\n",
            "\n",
            "\u001b[92mquerying release information from https://julialang-s3.julialang.org/bin/versions.json\u001b[0m\n",
            "julia 1.11.1 already installed.\n",
            "True\n",
            "\u001b[32m\u001b[1m    Updating\u001b[22m\u001b[39m registry at `~/.julia/registries/General.toml`\n",
            "\u001b[32m\u001b[1m   Resolving\u001b[22m\u001b[39m package versions...\n",
            "\u001b[32m\u001b[1m  No Changes\u001b[22m\u001b[39m to `~/.julia/environments/v1.11/Project.toml`\n",
            "\u001b[32m\u001b[1m  No Changes\u001b[22m\u001b[39m to `~/.julia/environments/v1.11/Manifest.toml`\n",
            "\u001b[?25l\u001b[?25h\u001b[2K\u001b[?25h\u001b[36m\u001b[1m[ \u001b[22m\u001b[39m\u001b[36m\u001b[1mInfo: \u001b[22m\u001b[39mInstalling Julia kernelspec in /root/.local/share/jupyter/kernels/julia-1.11\n",
            "[InstallKernelSpec] Removing existing kernelspec in /usr/local/share/jupyter/kernels/julia\n",
            "[InstallKernelSpec] Installed kernelspec julia in /usr/local/share/jupyter/kernels/julia\n"
          ]
        }
      ]
    },
    {
      "cell_type": "code",
      "source": [
        "versioninfo()"
      ],
      "metadata": {
        "id": "RsbZKbpOBxZY",
        "outputId": "3fe5f5e6-1bdf-4460-adfb-5aa5a7a70745",
        "colab": {
          "base_uri": "https://localhost:8080/",
          "height": 141
        }
      },
      "execution_count": 39,
      "outputs": [
        {
          "output_type": "error",
          "ename": "NameError",
          "evalue": "name 'versioninfo' is not defined",
          "traceback": [
            "\u001b[0;31m---------------------------------------------------------------------------\u001b[0m",
            "\u001b[0;31mNameError\u001b[0m                                 Traceback (most recent call last)",
            "\u001b[0;32m<ipython-input-39-a67619e8ecad>\u001b[0m in \u001b[0;36m<cell line: 1>\u001b[0;34m()\u001b[0m\n\u001b[0;32m----> 1\u001b[0;31m \u001b[0mversioninfo\u001b[0m\u001b[0;34m(\u001b[0m\u001b[0;34m)\u001b[0m\u001b[0;34m\u001b[0m\u001b[0;34m\u001b[0m\u001b[0m\n\u001b[0m",
            "\u001b[0;31mNameError\u001b[0m: name 'versioninfo' is not defined"
          ]
        }
      ]
    },
    {
      "cell_type": "code",
      "source": [
        "# julia cells\n",
        "function square(x)\n",
        "  return x*x\n",
        "end\n",
        "\n",
        "square(5)\n",
        "\n",
        "25"
      ],
      "metadata": {
        "id": "CkNGEpgTCSA6",
        "outputId": "6b63bf3c-b7c1-4e90-996e-15eaeef6730c",
        "colab": {
          "base_uri": "https://localhost:8080/",
          "height": 106
        }
      },
      "execution_count": 37,
      "outputs": [
        {
          "output_type": "error",
          "ename": "SyntaxError",
          "evalue": "invalid syntax (<ipython-input-37-b73722825b84>, line 2)",
          "traceback": [
            "\u001b[0;36m  File \u001b[0;32m\"<ipython-input-37-b73722825b84>\"\u001b[0;36m, line \u001b[0;32m2\u001b[0m\n\u001b[0;31m    function square(x)\u001b[0m\n\u001b[0m             ^\u001b[0m\n\u001b[0;31mSyntaxError\u001b[0m\u001b[0;31m:\u001b[0m invalid syntax\n"
          ]
        }
      ]
    },
    {
      "cell_type": "markdown",
      "metadata": {
        "id": "gpXMhivm09lu"
      },
      "source": [
        "# PolyLogToolkit"
      ]
    },
    {
      "cell_type": "markdown",
      "metadata": {
        "id": "wl6VZ4en09lv"
      },
      "source": [
        "*LogToolkit.py* is a python script implemented to support symbolic computations of multiple polylogarithms, detailed in Haoran Li's dissertation [Hopf Algebra of Multiple Polylogarithms and Its Associated One Forms](https://lihaoranicefire.github.io/math/LogToolKit/HopfAlgebraOfMultiplePolylogarithmsAndItsAssociatedOneForms.pdf)"
      ]
    },
    {
      "cell_type": "code",
      "execution_count": null,
      "metadata": {
        "id": "YMz1x3eq1RXa"
      },
      "outputs": [],
      "source": [
        "from sympy import *\n",
        "# import LogToolkit as ltk"
      ]
    },
    {
      "cell_type": "code",
      "execution_count": null,
      "metadata": {
        "vscode": {
          "languageId": "cpp"
        },
        "id": "2ws66Oi6BSFz"
      },
      "outputs": [],
      "source": [
        "for(int i = 0; i < 1000; i++) {\n",
        "    print(i)\n",
        "}"
      ]
    },
    {
      "cell_type": "code",
      "execution_count": null,
      "metadata": {
        "id": "d6O7DLe11VLv"
      },
      "outputs": [],
      "source": [
        "from sympy import symbols, Add, Mul\n",
        "\n",
        "# Define a simple class for the wedge product\n",
        "class WedgeProduct:\n",
        "    def __init__(self, *components):\n",
        "        self.components = tuple(components)\n",
        "\n",
        "    def __repr__(self):\n",
        "        return f\"WedgeProduct{self.components}\"\n",
        "\n",
        "    @staticmethod\n",
        "    def wedge(*args):\n",
        "        # Case 1: Single input (like Length[{a}] === 1 in Mathematica)\n",
        "        if len(args) == 1:\n",
        "            return args[0]\n",
        "\n",
        "        # Case 2: Handle sum (S_Plus in Mathematica)\n",
        "        if isinstance(args[1], Add):\n",
        "            return sum(WedgeProduct.wedge(*[arg]) for arg in args[1].args)\n",
        "\n",
        "        # Case 3: Handle zero case (0)\n",
        "        if any(arg == 0 for arg in args):\n",
        "            return 0\n",
        "\n",
        "        # Case 4: Handle multiplication of terms (Times[b___, s_, c___] in Mathematica)\n",
        "        if isinstance(args[1], Mul):\n",
        "            # Assume the second argument is a product\n",
        "            first_term = args[1].args[0]\n",
        "            return first_term * WedgeProduct.wedge(*args[1].args[1:])\n",
        "\n",
        "        # Handle generic case for wedge product\n",
        "        return WedgeProduct(*args)\n",
        "\n",
        "\n",
        "# Testing the implementation\n",
        "\n",
        "# Case 1: Single input (returns the input as is)\n",
        "v1 = WedgeProduct(1, 2, 3)\n",
        "result_1 = WedgeProduct.wedge(v1)\n",
        "print(result_1)  # Expected: WedgeProduct(1, 2, 3)\n",
        "\n",
        "# Case 2: Sum case (S_Plus)\n",
        "v2 = WedgeProduct(1, 2)\n",
        "v3 = WedgeProduct(3, 4)\n",
        "result_2 = WedgeProduct.wedge(v2 + v3)\n",
        "print(result_2)  # Expected: WedgeProduct(1, 2) + WedgeProduct(3, 4)\n",
        "\n",
        "# Case 3: Zero case (0)\n",
        "result_3 = WedgeProduct.wedge(v1 + 0)\n",
        "print(result_3)  # Expected: 0\n",
        "\n",
        "# Case 4: Product case (Times[b___, s_, c___])\n",
        "result_4 = WedgeProduct.wedge(2 * v1 + 3 * v2)\n",
        "print(result_4)  # Expected: 2 * WedgeProduct(1, 2, 3) + 3 * WedgeProduct(1, 2)"
      ]
    }
  ],
  "metadata": {
    "colab": {
      "provenance": []
    },
    "kernelspec": {
      "display_name": "Python 3",
      "name": "python3"
    },
    "language_info": {
      "name": "python"
    }
  },
  "nbformat": 4,
  "nbformat_minor": 0
}