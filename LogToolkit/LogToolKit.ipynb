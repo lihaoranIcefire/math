{
  "cells": [
    {
      "cell_type": "markdown",
      "metadata": {
        "id": "gpXMhivm09lu"
      },
      "source": [
        "# PolyLogToolkit"
      ]
    },
    {
      "cell_type": "markdown",
      "metadata": {
        "id": "wl6VZ4en09lv"
      },
      "source": [
        "*LogToolkit* is a script implemented to support symbolic computations of multiple polylogarithms, detailed in Haoran Li's dissertation [Hopf Algebra of Multiple Polylogarithms and Its Associated One Forms](https://lihaoranicefire.github.io/math/LogToolKit/HopfAlgebraOfMultiplePolylogarithmsAndItsAssociatedOneForms.pdf)"
      ]
    },
    {
      "cell_type": "markdown",
      "metadata": {
        "id": "dUtf0YZdairB"
      },
      "source": [
        "#### Tensor $\\otimes$"
      ]
    },
    {
      "cell_type": "markdown",
      "metadata": {
        "id": "Lan4LyftairB"
      },
      "source": [
        "#### Wedge $\\wedge$"
      ]
    },
    {
      "cell_type": "markdown",
      "metadata": {
        "id": "WzQ7nzZLairB"
      },
      "source": [
        "#### Differential $d$"
      ]
    },
    {
      "cell_type": "markdown",
      "metadata": {
        "id": "6R7dlbvZairB"
      },
      "source": [
        "#### Non-commutative multiplication $.$"
      ]
    },
    {
      "cell_type": "markdown",
      "metadata": {
        "id": "Q8hdb9M2IfVN"
      },
      "source": [
        "Elements in $\\mathbb I^{\\text{Symb}}$\n",
        "\n",
        "$I(a_{i_0}; 0^{n_0-1}, a_{i_1}, 0^{n_1-1}, \\cdots, a_{i_m}, 0^{m_d-1}; a_{i_{m+1}})\\leftrightsquigarrow (i_0, n_0, i_1, n_1, \\cdots, i_m, n_m, i_{m+1})$\n",
        "\n",
        "for example, in depth $2$, $I(a_0; 0^{1-1}, a_1, 0^{3-1}, a_2, 0^{2-1}; a_3)\\leftrightsquigarrow(0,1,1,3,2,2,2)$"
      ]
    },
    {
      "cell_type": "code",
      "execution_count": null,
      "metadata": {
        "id": "rpEzBFEHWeLP"
      },
      "outputs": [],
      "source": [
        "def IteratedIntegral():\n",
        "    def __init__(self, args, depth):\n",
        "        self.args = args\n",
        "        self.depth = depth"
      ]
    },
    {
      "cell_type": "code",
      "execution_count": null,
      "metadata": {
        "colab": {
          "base_uri": "https://localhost:8080/"
        },
        "id": "hFyJqe3ZLB_7",
        "outputId": "8def6f61-ce4e-4b56-9570-76cf43d35cf7"
      },
      "outputs": [
        {
          "data": {
            "text/plain": [
              "IteratedItegral([0, 1, 1, 3, 2, 2, 2], 2)"
            ]
          },
          "execution_count": 6,
          "metadata": {},
          "output_type": "execute_result"
        }
      ],
      "source": [
        "IteratedIntegral([0, 1, 1, 3, 2, 2, 2], 2)"
      ]
    },
    {
      "cell_type": "code",
      "execution_count": null,
      "metadata": {
        "id": "1ywm9CTCQgU6"
      },
      "outputs": [],
      "source": []
    }
  ],
  "metadata": {
    "colab": {
      "provenance": []
    },
    "kernelspec": {
      "display_name": "Python 3",
      "name": "python3"
    },
    "language_info": {
      "name": "python"
    }
  },
  "nbformat": 4,
  "nbformat_minor": 0
}