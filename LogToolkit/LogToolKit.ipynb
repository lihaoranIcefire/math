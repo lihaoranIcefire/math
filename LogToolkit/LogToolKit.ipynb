{
  "cells": [
    {
      "cell_type": "markdown",
      "metadata": {
        "id": "gpXMhivm09lu"
      },
      "source": [
        "# PolyLogToolkit"
      ]
    },
    {
      "cell_type": "markdown",
      "metadata": {
        "id": "wl6VZ4en09lv"
      },
      "source": [
        "*LogToolkit.py* is a python script implemented to support symbolic computations of multiple polylogarithms, detailed in Haoran Li's dissertation [Hopf Algebra of Multiple Polylogarithms and Its Associated One Forms](https://lihaoranicefire.github.io/math/LogToolKit/HopfAlgebraOfMultiplePolylogarithmsAndItsAssociatedOneForms.pdf)"
      ]
    },
    {
      "cell_type": "markdown",
      "source": [
        "Elements in $\\mathbb I^{\\text{Symb}}$\n",
        "\n",
        "$I(a_{i_0}; 0^{n_0-1}, a_{i_1}, 0^{n_1-1}, \\cdots, a_{i_m}, 0^{m_d-1}; a_{i_{m+1}})\\leftrightsquigarrow (i_0, n_0, i_1, n_1, \\cdots, i_m, n_m, i_{m+1})$\n",
        "\n",
        "for example, in depth $2$, $I(a_0; 0^{1-1}, a_1, 0^{3-1}, a_2, 0^{2-1}; a_3)\\leftrightsquigarrow(0,1,1,3,2,2,2)$"
      ],
      "metadata": {
        "id": "Q8hdb9M2IfVN"
      }
    },
    {
      "cell_type": "code",
      "source": [
        "struct IteratedItegral\n",
        "    args::Vector\n",
        "    depth::Int64\n",
        "\n",
        "    # Constructor\n",
        "    function IteratedItegral(args::Vector, depth::Int64)\n",
        "        new(args, depth)\n",
        "    end\n",
        "\n",
        "    # representation\n",
        "    function\n",
        "end"
      ],
      "metadata": {
        "id": "fkk77slKH6ln"
      },
      "execution_count": 4,
      "outputs": []
    },
    {
      "cell_type": "code",
      "source": [
        "IteratedItegral([0, 1, 1, 3, 2, 2, 2], 2)"
      ],
      "metadata": {
        "id": "hFyJqe3ZLB_7",
        "outputId": "8def6f61-ce4e-4b56-9570-76cf43d35cf7",
        "colab": {
          "base_uri": "https://localhost:8080/"
        }
      },
      "execution_count": 6,
      "outputs": [
        {
          "output_type": "execute_result",
          "data": {
            "text/plain": [
              "IteratedItegral([0, 1, 1, 3, 2, 2, 2], 2)"
            ]
          },
          "metadata": {},
          "execution_count": 6
        }
      ]
    },
    {
      "cell_type": "code",
      "source": [],
      "metadata": {
        "id": "1ywm9CTCQgU6"
      },
      "execution_count": null,
      "outputs": []
    }
  ],
  "metadata": {
    "colab": {
      "provenance": []
    },
    "kernelspec": {
      "display_name": "Julia 1.11.1",
      "name": "julia-1.11"
    }
  },
  "nbformat": 4,
  "nbformat_minor": 0
}