{
  "cells": [
    {
      "cell_type": "markdown",
      "metadata": {
        "id": "gpXMhivm09lu"
      },
      "source": [
        "# PolyLogToolkit"
      ]
    },
    {
      "cell_type": "markdown",
      "metadata": {
        "id": "wl6VZ4en09lv"
      },
      "source": [
        "*LogToolkit* is a script implemented to support symbolic computations of multiple polylogarithms, detailed in Haoran Li's dissertation [Hopf Algebra of Multiple Polylogarithms and Its Associated One Forms](https://lihaoranicefire.github.io/math/LogToolKit/HopfAlgebraOfMultiplePolylogarithmsAndItsAssociatedOneForms.pdf)"
      ]
    },
    {
      "cell_type": "markdown",
      "source": [
        "## Implementation"
      ],
      "metadata": {
        "id": "E1_GMGWPA7V4"
      }
    },
    {
      "cell_type": "code",
      "source": [
        "import itertools\n",
        "from IPython.display import display, Math\n",
        "from sympy import *\n",
        "from sympy.utilities.iterables import partitions\n",
        "\n",
        "\n",
        "# Reserve some symbol heads\n",
        "II, Li, du, dv = IndexedBase('II'), IndexedBase('Li'), IndexedBase('du'), IndexedBase('dv')"
      ],
      "metadata": {
        "id": "qiJsOGNxc4bp"
      },
      "execution_count": 163,
      "outputs": []
    },
    {
      "cell_type": "markdown",
      "metadata": {
        "id": "Q8hdb9M2IfVN"
      },
      "source": [
        "#### $\\mathbb I^{\\text{Symb}}$\n",
        "\n",
        "$$\n",
        "I(a_{i_0}; 0^{n_0-1}, a_{i_1}, 0^{n_1-1}, \\cdots, a_{i_m}, 0^{n_m-1}; a_{i_{m+1}})\\leftrightsquigarrow (i_0, n_0, i_1, n_1, \\cdots, i_m, n_m, i_{m+1})\n",
        "$$\n",
        "\n",
        "for example, in depth $2$, $I(a_0; 0^{1-1}, a_1, 0^{3-1}, a_2, 0^{2-1}; a_3)\\leftrightsquigarrow(0,1,1,3,2,2,2)$\n",
        "\n",
        "Recall the $\\Phi$ map\n",
        "\n",
        "- $\\Phi(I(a; b)) = 1,\\quad \\Phi(I(0; \\cdots; 0)) = 0$\n",
        "\n",
        "- $\\Phi(I(a_{i_0};0^{n_0-1},\\cdots,a_{i_m},0^{n_m-1};0))=(-1)^{n_0+\\cdots+n_m-1}\\Phi(I(0;0^{n_m-1},a_{i_m},\\cdots,0^{n_0-1};a_{i_0})),\\quad a_{i_0}\\neq0$\n",
        "\n",
        "- $\\Phi(I(a_{i_0};0^{n_0-1},\\cdots,a_{i_m},0^{n_m-1};a_{i_{m+1}}))\\\\\n",
        "\\displaystyle=\\sum_{k=0}^m\\sum_{p+q=n_k>1}\\Phi(I(a_{i_0};\\cdots,a_{i_k},0^{p-1};0))\\Phi(I(0,0^{q-1},a_{i_{k+1}},\\cdots;a_{i_{m+1}})),\\quad a_{i_0}, a_{i_{m+1}} \\neq 0$\n",
        "\n",
        "- $\\Phi(I(0;0^{n_0-1},a_{i_1},0^{n_1-1},\\cdots,a_{i_m},0^{n_m-1};a_{i_{m+1}}))=\\\\\n",
        "\\displaystyle\\sum_{p_0+\\cdots+p_m=n_0-1}(-1)^{n_0+p_0+m-1}\\dfrac{\\log^{p_0}(a_{i_{m+1}})}{p_0!}\\binom{n_1+p_1-1}{n_1-1}\\cdots\\binom{n_m+p_m-1}{n_m-1}\\left[\\frac{a_{i_2}}{a_{i_1}},\\cdots,\\frac{a_{i_{m+1}}}{a_{i_m}}\\right]_{n_1+p_1,\\cdots,n_m+p_m}$\n",
        "\n",
        "Note: $\\log^0(a_{i_{m+1}})$ is taken to be $1$ for $p_0=0$ even if $a_{i_{m+1}}=1$\n",
        "\n",
        "Given depth $d$, the implementatio of $\\Phi$ is\n",
        "- $\\Phi(i_0,1,i_1) = 1,\\quad \\Phi(0,n_0,\\cdots,n_m,0) = 0$\n",
        "\n",
        "- $\\Phi(i_0, n_0, \\cdots, i_m, n_m, 0)=(-1)^{n_0+\\cdots+n_m-1}\\Phi(0,n_m,i_m,\\cdots,n_0,i_0),\\quad i_0\\neq0$\n",
        "\n",
        "- $\\displaystyle\\Phi(i_0,n_0,\\cdots,i_m,n_m,i_{m+1})=\\sum_{k=0}^m\\sum_{p+q=n_k>1}\\Phi(i_0,\\cdots,i_k,p;0)\\Phi(0,q,i_{k+1},\\cdots;i_{m+1}),\\quad i_0,i_{m+1} \\neq 0$\n",
        "\n",
        "- $\\displaystyle\\Phi(0;n_0,i_1,n_1,\\cdots,i_m,n_m,d+1)=\\sum_{p_1+\\cdots+p_m=n_0-1}(-1)^{n_0+m-1}\\binom{n_1+p_1-1}{n_1-1}\\cdots\\binom{n_m+p_m-1}{n_m-1}\\\\(i_1,n_1+p_1,i_2-i_1,\\cdots,i_m-i_{m-1},n_m+p_m,d+1-i_m)$\n",
        "\n",
        "- $\\displaystyle\\Phi(0;n_0,i_1,n_1,\\cdots,i_m,n_m,i_{m+1})=\\sum_{p_0+\\cdots+p_m=n_0-1}(-1)^{n_0+p_0+m-1}\\dfrac{\\log^{p_0}(a_{i_{m+1}})}{p_0!}\\binom{n_1+p_1-1}{n_1-1}\\cdots\\binom{n_m+p_m-1}{n_m-1}\\\\(i_1,n_1+p_1,i_2-i_1,\\cdots,i_m-i_{m-1},n_m+p_m,i_{m+1}-i_m)$"
      ]
    },
    {
      "cell_type": "code",
      "execution_count": 154,
      "metadata": {
        "id": "rpEzBFEHWeLP"
      },
      "outputs": [],
      "source": [
        "class ISymb(Indexed):\n",
        "    def __new__(cls, *args):\n",
        "        return super().__new__(cls, II, *args)\n",
        "    def __init__(self, *args):\n",
        "        # self.args[0] is the symbol head II\n",
        "        self.m = len(args) // 2 - 1\n",
        "        self.i = args[::2]\n",
        "        self.n = args[1::2]\n",
        "    def __lt__(self, other):\n",
        "        pass\n",
        "    def toHSymb(self, depth):\n",
        "        '''\n",
        "        Turn HSymb into ISymb given depth\n",
        "        '''\n",
        "        if self.m == 1:\n",
        "            return 1\n",
        "        elif self.i[0] == 0 and self.i[-1] == 0:\n",
        "            return 0\n",
        "        elif self.i[0] != 0 and self.i[-1] == 0:\n",
        "            return (-1)^(sum(self.n) - 1) * ISymb(*self.args[:0:-1]).toHSymb(depth)\n",
        "        elif self.i[0] != 0 and self.i[-1] != 0:\n",
        "            return sum()\n",
        "        elif self.i[0] == 0 and self.i[-1] != 0:\n",
        "            pass\n",
        "    def __repr__(self):\n",
        "        return f\"I({','.join('a_{'+str(i)+'},0^{'+str(n)+'-1}' for i, n in zip(self.i[:-1], self.n))},a_{{{self.i[-1]}}})\""
      ]
    },
    {
      "cell_type": "code",
      "source": [
        "list(partitions(5))"
      ],
      "metadata": {
        "id": "9xDq9mNywetZ",
        "outputId": "ff222404-a072-41ec-ea23-fe5379ec7d68",
        "colab": {
          "base_uri": "https://localhost:8080/"
        }
      },
      "execution_count": 164,
      "outputs": [
        {
          "output_type": "execute_result",
          "data": {
            "text/plain": [
              "[{5: 1},\n",
              " {4: 1, 1: 1},\n",
              " {3: 1, 2: 1},\n",
              " {3: 1, 1: 2},\n",
              " {2: 2, 1: 1},\n",
              " {2: 1, 1: 3},\n",
              " {1: 5}]"
            ]
          },
          "metadata": {},
          "execution_count": 164
        }
      ]
    },
    {
      "cell_type": "code",
      "source": [
        "ISymb(1,1,1)"
      ],
      "metadata": {
        "id": "Ke9x95idg6sy",
        "outputId": "259d99c7-b12d-4d7d-a3e1-1833e6340d9c",
        "colab": {
          "base_uri": "https://localhost:8080/",
          "height": 38
        }
      },
      "execution_count": 157,
      "outputs": [
        {
          "output_type": "execute_result",
          "data": {
            "text/plain": [
              "I(a_{1},0^{1-1},a_{1})"
            ],
            "text/latex": "$\\displaystyle {II}_{1,1,1}$"
          },
          "metadata": {},
          "execution_count": 157
        }
      ]
    },
    {
      "cell_type": "code",
      "source": [
        "display(Math(repr( ISymb(1,1,1) )))"
      ],
      "metadata": {
        "id": "zAVeLqBxfiiq",
        "outputId": "84f0038e-e1ca-425e-a5d7-d6093d5c3d74",
        "colab": {
          "base_uri": "https://localhost:8080/",
          "height": 38
        }
      },
      "execution_count": 156,
      "outputs": [
        {
          "output_type": "display_data",
          "data": {
            "text/plain": [
              "<IPython.core.display.Math object>"
            ],
            "text/latex": "$\\displaystyle I(a_{1},0^{1-1},a_{1})$"
          },
          "metadata": {}
        }
      ]
    },
    {
      "cell_type": "markdown",
      "source": [
        "#### $\\mathbb H^{\\text{Symb}}$\n",
        "\n",
        "$$\n",
        "[x_{i_1\\to i_2},\\cdots,x_{i_d\\to i_{d+1}}]_{n_1,\\cdots,n_d}\\leftrightsquigarrow(i_1,n_1,i_2-i_1,\\cdots,i_d-i_{d-1},n_d,i_{d+1}-i_d)\n",
        "$$\n",
        "\n",
        "Or $(m_1,n_1,\\cdots,m_d,n_d,m_{d+1})$ so that $i_r = m_1 + \\cdots + m_r$\n",
        "\n",
        "The total ordering is $(m_1,n_1,\\cdots,m_d,n_d,m_{d+1})\\prec(m'_1,n'_1,\\cdots,m'_{d'},n'_{d'},m'_{d'+1})$\n",
        "- if: $\\sum n_k < \\sum n'_k$\n",
        "- else if: $i_{d+1} < i'_{d'+1}$\n",
        "- else: $m_{d-r} > m'_{d'-r}$ or $n_{d-r} > n'_{d'-r}$ and the entries to the right coincide\n",
        "\n",
        "The $\\partial_{r}$ of $(m_1,n_1,\\cdots,m_d,n_d,m_{d+1})$ is\n",
        "- if $d == 1$ and $n_1 == 1$: $-dv_{i_1,i_2-1}$\n",
        "- else if $n_r>1$ or $d=1$: $(\\cdots,n_r-1,\\cdots) du_{i_r, i_{r+1}-1}$\n",
        "- else if $r=d$: $-(\\cdots,n_{d-1},m_d+1+m_{d+1}) dv_{i_d,i_{d+1}-1}$\n",
        "- else: $-(\\cdots,m_{r}+1+m_{r+1},n_{r+1},\\cdots) dv_{i_r, i_{r+1}-1} + (\\cdots,m_r,n_{r+1},m_{r+1}+1+m_{r+2},\\cdots) (du_{i_r, i_{r+1}-1} - dv_{i_r, i_{r+1}-1})$\n",
        "\n",
        "Since\n",
        "$$\n",
        "[x_{i_1\\to i_2},\\cdots,x_{i_d\\to i_{d+1}}]_{n_1,\\cdots,n_d}\\leftrightsquigarrow I(a_0;a_{i_1},0^{n_1-1},\\cdots,a_{i_d},0^{n_d-1};a_{i_{d+1}})\n",
        "$$\n",
        "so `toISymb` is implemented as\n",
        "$$\n",
        "(m_1,n_1,\\cdots,m_d,n_d,m_{d+1})\\rightsquigarrow(0,1,i_1,n_1,\\cdots,i_d,n_d,i_{d+1})\n",
        "$$"
      ],
      "metadata": {
        "id": "McTQ96DfmI5r"
      }
    },
    {
      "cell_type": "code",
      "source": [
        "class HSymb(Indexed):\n",
        "    def __new__(cls, *args):\n",
        "        return super().__new__(cls, Li, *args)\n",
        "    def __init__(self, *args):\n",
        "        # self.args[0] is the symbol head Li\n",
        "        self.d = len(args) // 2\n",
        "        self.m = (0, *args[::2])\n",
        "        self.n = (0, *args[1::2])\n",
        "        self.i = list(itertools.accumulate(self.m))\n",
        "    def __eq__(self, other):\n",
        "        return self.args == other.args\n",
        "    def __lt__(self, other):\n",
        "        if sum(self.n) != sum(other.n):\n",
        "            return sum(self.n) < sum(other.n)\n",
        "\n",
        "        if self.i[-1] != other.i[-1]:\n",
        "            return self.i[-1] < other.i[-1]\n",
        "\n",
        "        for r in range(1, len(self.args)):\n",
        "            if self.args[-r] != other.args[-r]:\n",
        "                return self.m[-r] > other.m[-r]\n",
        "\n",
        "        return False\n",
        "\n",
        "    def toISymb(self):\n",
        "        '''\n",
        "        Turn HSymb into ISymb\n",
        "        '''\n",
        "        args = [0, 1]\n",
        "        for r in range(1, self.d + 1):\n",
        "            args.extend([self.i[r], self.n[r]])\n",
        "        args.append(self.i[self.d + 1])\n",
        "        return ISymb(*args)\n",
        "\n",
        "    def __repr__(self):\n",
        "        return f'Li{self.args[1:]}'\n",
        "\n",
        "    def partial_differential(self, r):\n",
        "        '''\n",
        "        Take the partial_r of a polylogarithm\n",
        "        '''\n",
        "        if self.d == 1 and self.n[1] == 1:\n",
        "            return -dv[self.i[1], self.i[2] - 1]\n",
        "        if self.n[r] > 1 or self.d == 1:\n",
        "            return HSymb(*self.args[1:2*r-1], self.n[r] - 1, *self.args[2*r+1:]) * du[self.i[r], self.i[r+1] - 1]\n",
        "        elif r == self.d:\n",
        "            return -HSymb(*self.args[1:-3], self.m[r] + 1 + self.m[r+1]) * dv[self.i[r], self.i[r+1] - 1]\n",
        "        else:\n",
        "            return -HSymb(*self.args[1:2*(r-1)], self.m[r] + 1 + self.m[r+1], *self.args[2*(r+1):]) * dv[self.i[r], self.i[r+1] - 1] +\\\n",
        "                    HSymb(*self.args[1:2*r-1], self.n[r+1], self.m[r+1] + 1 + self.m[r+2], *self.args[2*(r+2):]) *\\\n",
        "                    (du[self.i[r], self.i[r+1] - 1] - dv[self.i[r], self.i[r+1] - 1])\n",
        "\n",
        "    def differential(self):\n",
        "        '''\n",
        "        Take the differential of a polylogarithm\n",
        "        '''\n",
        "        return sum(self.partial_differential(r) for r in range(1, self.d + 1))"
      ],
      "metadata": {
        "id": "kghmUR52ntg-"
      },
      "execution_count": 121,
      "outputs": []
    },
    {
      "cell_type": "markdown",
      "metadata": {
        "id": "6wWFAdJaaxAT"
      },
      "source": [
        "#### Differential\n",
        "\n",
        "encodings rendered by successive partial derivatives. The $\\partial_{r}$-terms of $(m_1,n_1,\\cdots,m_d,n_d,m_{d+1})$ include\n",
        "- if $n_r>1$ or $d=1$: $(\\cdots,n_r-1,\\cdots)$\n",
        "- else if $r=d$: $(\\cdots,n_{d-1},m_d+1+m_{d+1})$\n",
        "- else: $(\\cdots,m_{r}+1+m_{r+1},n_{r+1},\\cdots)$ and $(\\cdots,m_r,n_{r+1},m_{r+1}+1+m_{r+2},\\cdots)$"
      ]
    },
    {
      "cell_type": "code",
      "source": [
        "def differential(expr):\n",
        "    '''\n",
        "    Take the differential of an element in HSymb\n",
        "    '''\n",
        "    if expr.is_Add:\n",
        "        return sum(differential(arg) for arg in expr.args)\n",
        "    elif expr.is_Mul:\n",
        "        return sum(expr / arg * differential(arg) for arg in expr.args if not arg.is_number)\n",
        "    elif expr.is_Pow:\n",
        "        return expr.args[1] * expr.args[0] ** (expr.args[1] - 1) * differential(expr.args[0])\n",
        "    elif expr.is_number:\n",
        "        return 0\n",
        "\n",
        "    elif isinstance(expr, HSymb):\n",
        "        return expr.differential()"
      ],
      "metadata": {
        "id": "iO6Pvve80WzG"
      },
      "execution_count": 113,
      "outputs": []
    },
    {
      "cell_type": "markdown",
      "metadata": {
        "id": "3OMcT03_axAT"
      },
      "source": [
        "#### Tensor"
      ]
    },
    {
      "cell_type": "markdown",
      "source": [
        "$$\n",
        "\\left(\\sum_{i_1}c_{i_i}^{(1)}t_{i_1}^{(1)}\\right)\\otimes\\cdots\\otimes\\left(\\sum_{i_N}c_{i_N}^{(N)}t_{i_N}^{(N)}\\right)=\\sum_{i_1,\\cdots,i_N}c_{i_i}^{(1)}\\cdots c_{i_N}^{(N)} t_{i_1}^{(1)}\\otimes\\cdots\\otimes t_{i_N}^{(N)}\n",
        "$$\n",
        "\n",
        "$$\n",
        "\\left(\\sum_{\\mathbf i}c_{\\mathbf i}^{(1)}t_{i_1}^{(1)}\\otimes\\cdots\\otimes t_{i_N}^{(1)}\\right)\\left(\\sum_{\\mathbf j}c_{\\mathbf j}^{(2)}t_{j_1}^{(2)}\\otimes\\cdots\\otimes t_{j_N}^{(2)}\\right)=\\sum_{\\mathbf i,\\mathbf j}c_{\\mathbf i}^{(1)}c_{\\mathbf j}^{(2)}\\left(t_{i_1}^{(1)}t_{j_1}^{(2)}\\right)\\otimes\\cdots\\otimes\\left(t_{i_N}^{(1)}t_{j_N}^{(2)}\\right)\n",
        "$$"
      ],
      "metadata": {
        "id": "pcUIqh-62ZyH"
      }
    },
    {
      "cell_type": "code",
      "source": [
        "class tensor():\n",
        "    def __init__(self, *args):\n",
        "        self.is_number = False\n",
        "        # Giving coefficients and terms already\n",
        "        if len(args) == 2 and all(isinstance(arg, (list, tuple)) for arg in args):\n",
        "            self.c, self.t = args\n",
        "        # Giving the arguments of a single raw tensor\n",
        "        else:\n",
        "            # expand the args first\n",
        "            args = [expand(arg) for arg in args]\n",
        "\n",
        "            self.c, self.t = [], []\n",
        "            for comp in list(itertools.product(*map(tensor._split_coef, args))):\n",
        "                c, t = zip(*comp)\n",
        "                self.c.append(prod(c))\n",
        "                self.t.append(t)\n",
        "\n",
        "    @staticmethod\n",
        "    def _split_coef(expr):\n",
        "        if expr.is_Add:\n",
        "            return [tensor._split_coef(arg)[0] for arg in expr.args]\n",
        "        elif expr.is_number:\n",
        "            return [[expr, 1]]\n",
        "        elif expr.is_Mul:\n",
        "            coef = prod(arg for arg in expr.args if arg.is_number)\n",
        "            return [[coef, expr / coef]]\n",
        "        else:\n",
        "            return [[1, expr]]\n",
        "\n",
        "    def __add__(self, other):\n",
        "        return tensor(self.c + other.c, self.t + other.t)\n",
        "    def __neg__(self):\n",
        "        return tensor(list(map(lambda x: -x, self.c)), self.t)\n",
        "    def __sub__(self, other):\n",
        "        return self + (-other)\n",
        "    def __rmul__(self, other):\n",
        "        # Scalar multiplication (scalar on the left side)\n",
        "        if isinstance(other, (int, float)) or other.is_number:\n",
        "            return tensor([c * other for c in self.c], self.t)\n",
        "        return self * other\n",
        "    def __mul__(self, other):\n",
        "        if isinstance(other, (int, float)) or other.is_number:\n",
        "            return tensor([c * other for c in self.c], self.t)\n",
        "        return tensor(list(map(prod, itertools.product(self.c, other.c))),\n",
        "                      [tensor._mul(t1, t2) for t1, t2 in itertools.product(self.t, other.t)])\n",
        "\n",
        "    @staticmethod\n",
        "    def _mul(t1, t2):\n",
        "        if not isinstance(t1, (list, tuple)) or not isinstance(t2, (list, tuple)):\n",
        "            raise ValueError('Must be a list or a tuple')\n",
        "        if len(t1) != len(t2):\n",
        "            raise ValueError('Dimension Mismatch')\n",
        "        return tuple(map(prod, zip(t1, t2)))\n",
        "\n",
        "    def __repr__(self):\n",
        "        ct = []\n",
        "        for c, t in zip(self.c, self.t):\n",
        "            if c == 1:\n",
        "                ct.append(f\"{t}\")\n",
        "            elif c == -1:\n",
        "                ct.append(f\"-{t}\")\n",
        "            else:\n",
        "                ct.append(f\"{c}*{t}\")\n",
        "\n",
        "        return ' + '.join(ct)"
      ],
      "metadata": {
        "id": "l8u8T1TBuXn9"
      },
      "execution_count": 114,
      "outputs": []
    },
    {
      "cell_type": "markdown",
      "metadata": {
        "id": "nUfPAfzDaxAT"
      },
      "source": [
        "#### Wedge"
      ]
    },
    {
      "cell_type": "code",
      "source": [
        "class wedge:\n",
        "    def __init__(self, *comp):\n",
        "        self.comp = comp\n",
        "    def __repr__(self):\n",
        "        return f'{self.comp}'\n",
        "    def __repr__(self):\n",
        "        ct = []\n",
        "        for c, t in zip(self.c, self.t):\n",
        "            if c == 1:\n",
        "                ct.append(f\"{t}\")\n",
        "            elif c == -1:\n",
        "                ct.append(f\"-{t}\")\n",
        "            else:\n",
        "                ct.append(f\"{c}*{t}\")\n",
        "\n",
        "        return ' + '.join(ct)"
      ],
      "metadata": {
        "id": "Qz5xTBTmztKu"
      },
      "execution_count": null,
      "outputs": []
    },
    {
      "cell_type": "markdown",
      "source": [
        "#### Variation matrix over $S_d(\\mathbb C)$\n",
        "\n",
        "Recall the *complementary entry* of $(-1)^kI(0;a_{i_1},0^{m_{i_1}-1},\\cdots,a_{i_k},0^{m_{i_k}-1};1)$ with respect to $(-1)^lI(0;a_{j_1},0^{p_{j_1}-1},\\cdots,a_{j_l},0^{p_{j_l}-1};1)$ is\n",
        "$$\n",
        "(-1)^{l-k} I^{\\sigma_{i_1}\\sigma_0^{m_{i_1}-1}\\cdots\\sigma_{i_k}\\sigma_0^{m_{i_k}-1}}(0;a_{j_1},0^{p_{j_1}-1},\\cdots,a_{j_l},0^{p_{j_l}-1};1)\n",
        "$$\n",
        "\n",
        "$\\sigma_{i_1}\\sigma_0^{m_1-1}\\cdots\\sigma_{i_k}\\sigma_0^{m_k-1}$ should correspond to $(0,1,i_1,m_1,\\cdots, i_k,m_k)$\n",
        "\n",
        "Suppose $\\{i_1,\\cdots,i_k\\}=\\{j_{q_1},\\cdots,j_{q_k}\\}$ is a subsequence of $\\{j_1,\\cdots,j_l\\}$ (otherwise the complementary entry is 0), then the complementary entry is\n",
        "\n",
        "$$\n",
        "(-1)^{l-k}I(0;\\cdots;a_{j_{q_1}})\\left(\\prod_{r=1}^{k-1} I^{\\sigma_0^{m_r-1}}(a_{j_{q_r}};\\cdots;a_{j_{q_{r+1}}})\\right)I^{\\sigma_0^{m_k-1}}(a_{j_{q_k}};\\cdots;1)\n",
        "$$\n",
        "\n",
        "Assume\n",
        "- $a_0=0$, $a_{d+1}=1$\n",
        "- $i_0=j_0=0$, $i_{k+1}=j_{l+1}=d+1$ so that $q_0=0$, $q_{k+1}=l$,\n",
        "- $m_0=1$\n",
        "\n",
        "then the complementary entry is\n",
        "$$\n",
        "(-1)^{l-k}\\prod_{r=0}^{k} I^{\\sigma_0^{m_r-1}}(a_{j_{q_r}};\\cdots;a_{j_{q_{r+1}}})\n",
        "$$\n",
        "If $m_r > 1$, it is equal to\n",
        "$$\n",
        "I^{\\sigma_0^{m_r-1}}(a_{j_{q_r}};\\cdots;a_{j_{q_{r+1}}})=\\sum_{\\substack{q_r\\leq s<q_{r+1}-1 \\\\ m_r \\leq p_s}}\\sum_{u+v=p_s-m_r}I(a_{j_{q_r}};\\cdots,a_{j_s},0^{u};0)I(0;0^{v},a_{j_{s+1}},\\cdots;a_{j_{q_{r+1}}})\n",
        "$$\n",
        "\n",
        "\n",
        "\n",
        "`complementaryEntry(w1, w2)`: the complementary entry of $w_1 = (0,1,j_1,p_1,\\cdots,j_l,p_l)$ and $w_2 = (0,1,i_1,m_1,\\cdots,i_k,m_k)$. Which should be the product of `Isigma(r)` from $r=0$ to $k$"
      ],
      "metadata": {
        "id": "c4i1Rf0iSENG"
      }
    },
    {
      "cell_type": "code",
      "source": [
        "class VariationMatrix:\n",
        "    def __init__(self, *args):\n",
        "        self.args = args\n",
        "    def firstColumn(self):\n",
        "        pass\n",
        "    def complementaryEntry(w1, w2):\n",
        "        pass\n",
        "    def __repr__(self):\n",
        "        return f'{self.args}'"
      ],
      "metadata": {
        "id": "_UO8ZJVeSIGg"
      },
      "execution_count": null,
      "outputs": []
    },
    {
      "cell_type": "code",
      "source": [],
      "metadata": {
        "id": "_4iiSp2miM6_"
      },
      "execution_count": null,
      "outputs": []
    }
  ],
  "metadata": {
    "colab": {
      "provenance": []
    },
    "kernelspec": {
      "display_name": "Julia 1.11.1",
      "name": "julia-1.11"
    }
  },
  "nbformat": 4,
  "nbformat_minor": 0
}